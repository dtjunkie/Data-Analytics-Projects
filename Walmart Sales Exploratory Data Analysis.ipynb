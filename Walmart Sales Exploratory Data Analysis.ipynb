{
 "cells": [
  {
   "cell_type": "markdown",
   "id": "a12b6d82",
   "metadata": {},
   "source": [
    "# Walmart Sales Exploratory Data Analysis"
   ]
  },
  {
   "cell_type": "markdown",
   "id": "b320ca56",
   "metadata": {},
   "source": [
    "## 1) Importing the necessary modules"
   ]
  },
  {
   "cell_type": "code",
   "execution_count": 1,
   "id": "a66bb37f",
   "metadata": {},
   "outputs": [],
   "source": [
    "import pandas as pd\n",
    "import numpy as np\n",
    "import seaborn as sns\n",
    "import matplotlib.pyplot as plt"
   ]
  },
  {
   "cell_type": "markdown",
   "id": "f9d2a63d",
   "metadata": {},
   "source": [
    "## 2) Loading the dataset"
   ]
  },
  {
   "cell_type": "code",
   "execution_count": 2,
   "id": "7a7b2780",
   "metadata": {},
   "outputs": [
    {
     "data": {
      "text/html": [
       "<div>\n",
       "<style scoped>\n",
       "    .dataframe tbody tr th:only-of-type {\n",
       "        vertical-align: middle;\n",
       "    }\n",
       "\n",
       "    .dataframe tbody tr th {\n",
       "        vertical-align: top;\n",
       "    }\n",
       "\n",
       "    .dataframe thead th {\n",
       "        text-align: right;\n",
       "    }\n",
       "</style>\n",
       "<table border=\"1\" class=\"dataframe\">\n",
       "  <thead>\n",
       "    <tr style=\"text-align: right;\">\n",
       "      <th></th>\n",
       "      <th>Store</th>\n",
       "      <th>Date</th>\n",
       "      <th>Weekly_Sales</th>\n",
       "      <th>Holiday_Flag</th>\n",
       "      <th>Temperature</th>\n",
       "      <th>Fuel_Price</th>\n",
       "      <th>CPI</th>\n",
       "      <th>Unemployment</th>\n",
       "    </tr>\n",
       "  </thead>\n",
       "  <tbody>\n",
       "    <tr>\n",
       "      <th>0</th>\n",
       "      <td>1</td>\n",
       "      <td>05-02-2010</td>\n",
       "      <td>1643690.90</td>\n",
       "      <td>0</td>\n",
       "      <td>42.31</td>\n",
       "      <td>2.572</td>\n",
       "      <td>211.096358</td>\n",
       "      <td>8.106</td>\n",
       "    </tr>\n",
       "    <tr>\n",
       "      <th>1</th>\n",
       "      <td>1</td>\n",
       "      <td>12-02-2010</td>\n",
       "      <td>1641957.44</td>\n",
       "      <td>1</td>\n",
       "      <td>38.51</td>\n",
       "      <td>2.548</td>\n",
       "      <td>211.242170</td>\n",
       "      <td>8.106</td>\n",
       "    </tr>\n",
       "    <tr>\n",
       "      <th>2</th>\n",
       "      <td>1</td>\n",
       "      <td>19-02-2010</td>\n",
       "      <td>1611968.17</td>\n",
       "      <td>0</td>\n",
       "      <td>39.93</td>\n",
       "      <td>2.514</td>\n",
       "      <td>211.289143</td>\n",
       "      <td>8.106</td>\n",
       "    </tr>\n",
       "    <tr>\n",
       "      <th>3</th>\n",
       "      <td>1</td>\n",
       "      <td>26-02-2010</td>\n",
       "      <td>1409727.59</td>\n",
       "      <td>0</td>\n",
       "      <td>46.63</td>\n",
       "      <td>2.561</td>\n",
       "      <td>211.319643</td>\n",
       "      <td>8.106</td>\n",
       "    </tr>\n",
       "    <tr>\n",
       "      <th>4</th>\n",
       "      <td>1</td>\n",
       "      <td>05-03-2010</td>\n",
       "      <td>1554806.68</td>\n",
       "      <td>0</td>\n",
       "      <td>46.50</td>\n",
       "      <td>2.625</td>\n",
       "      <td>211.350143</td>\n",
       "      <td>8.106</td>\n",
       "    </tr>\n",
       "  </tbody>\n",
       "</table>\n",
       "</div>"
      ],
      "text/plain": [
       "   Store        Date  Weekly_Sales  Holiday_Flag  Temperature  Fuel_Price  \\\n",
       "0      1  05-02-2010    1643690.90             0        42.31       2.572   \n",
       "1      1  12-02-2010    1641957.44             1        38.51       2.548   \n",
       "2      1  19-02-2010    1611968.17             0        39.93       2.514   \n",
       "3      1  26-02-2010    1409727.59             0        46.63       2.561   \n",
       "4      1  05-03-2010    1554806.68             0        46.50       2.625   \n",
       "\n",
       "          CPI  Unemployment  \n",
       "0  211.096358         8.106  \n",
       "1  211.242170         8.106  \n",
       "2  211.289143         8.106  \n",
       "3  211.319643         8.106  \n",
       "4  211.350143         8.106  "
      ]
     },
     "execution_count": 2,
     "metadata": {},
     "output_type": "execute_result"
    }
   ],
   "source": [
    "df = pd.read_csv('Walmart.csv')\n",
    "df.head()"
   ]
  },
  {
   "cell_type": "markdown",
   "id": "f95282d3",
   "metadata": {},
   "source": [
    "## 3) Exploring the dataframe"
   ]
  },
  {
   "cell_type": "markdown",
   "id": "5e1e4201",
   "metadata": {},
   "source": [
    "### a) Determine the shape of the dataframe"
   ]
  },
  {
   "cell_type": "code",
   "execution_count": 3,
   "id": "264fa6b3",
   "metadata": {},
   "outputs": [
    {
     "name": "stdout",
     "output_type": "stream",
     "text": [
      "This dataset has 6435 rows and 8 columns.\n"
     ]
    }
   ],
   "source": [
    "rows = df.shape[0]\n",
    "columns =df.shape[1]\n",
    "\n",
    "print(\"This dataset has\",rows,\"rows and\",columns,\"columns.\")"
   ]
  },
  {
   "cell_type": "markdown",
   "id": "16e0afcb",
   "metadata": {},
   "source": [
    "### b) Check the summary of the dataframe"
   ]
  },
  {
   "cell_type": "code",
   "execution_count": 4,
   "id": "47151586",
   "metadata": {
    "scrolled": true
   },
   "outputs": [
    {
     "name": "stdout",
     "output_type": "stream",
     "text": [
      "<class 'pandas.core.frame.DataFrame'>\n",
      "RangeIndex: 6435 entries, 0 to 6434\n",
      "Data columns (total 8 columns):\n",
      " #   Column        Non-Null Count  Dtype  \n",
      "---  ------        --------------  -----  \n",
      " 0   Store         6435 non-null   int64  \n",
      " 1   Date          6435 non-null   object \n",
      " 2   Weekly_Sales  6435 non-null   float64\n",
      " 3   Holiday_Flag  6435 non-null   int64  \n",
      " 4   Temperature   6435 non-null   float64\n",
      " 5   Fuel_Price    6435 non-null   float64\n",
      " 6   CPI           6435 non-null   float64\n",
      " 7   Unemployment  6435 non-null   float64\n",
      "dtypes: float64(5), int64(2), object(1)\n",
      "memory usage: 402.3+ KB\n"
     ]
    }
   ],
   "source": [
    "df.info()"
   ]
  },
  {
   "cell_type": "markdown",
   "id": "2c539d4e",
   "metadata": {},
   "source": [
    "#### Observations:\n",
    "\n",
    "1. The data type of the values in the Date column is an string. We will convert them into a datetime data type.\n",
    "2. The data type of the values in the Store column is an integer. We will convert them into a string data type.\n",
    "3. The data type for the values in the Holiday_Flag column are integers. We will convert it into a categorical data type since the values are used for identification purposes."
   ]
  },
  {
   "cell_type": "markdown",
   "id": "c75865d7",
   "metadata": {},
   "source": [
    "## 4) Cleaning the data"
   ]
  },
  {
   "cell_type": "markdown",
   "id": "2fff8f37",
   "metadata": {},
   "source": [
    "### a) Handling missing values"
   ]
  },
  {
   "cell_type": "code",
   "execution_count": 5,
   "id": "35bd7408",
   "metadata": {},
   "outputs": [
    {
     "data": {
      "text/plain": [
       "Store           0\n",
       "Date            0\n",
       "Weekly_Sales    0\n",
       "Holiday_Flag    0\n",
       "Temperature     0\n",
       "Fuel_Price      0\n",
       "CPI             0\n",
       "Unemployment    0\n",
       "dtype: int64"
      ]
     },
     "execution_count": 5,
     "metadata": {},
     "output_type": "execute_result"
    }
   ],
   "source": [
    "# Getting the number of missing data points per column\n",
    "missing_values = df.isnull().sum()\n",
    "\n",
    "# Look at the number of missing data points in the first tn columns\n",
    "missing_values[0:10]"
   ]
  },
  {
   "cell_type": "markdown",
   "id": "e1380156",
   "metadata": {},
   "source": [
    "**There are no missing data points in this data set.**"
   ]
  },
  {
   "cell_type": "markdown",
   "id": "2940763a",
   "metadata": {},
   "source": [
    "### b) Converting incorrect data types"
   ]
  },
  {
   "cell_type": "code",
   "execution_count": 20,
   "id": "93cbe1bd",
   "metadata": {},
   "outputs": [
    {
     "name": "stdout",
     "output_type": "stream",
     "text": [
      "<class 'pandas.core.frame.DataFrame'>\n",
      "RangeIndex: 6435 entries, 0 to 6434\n",
      "Data columns (total 10 columns):\n",
      " #   Column        Non-Null Count  Dtype         \n",
      "---  ------        --------------  -----         \n",
      " 0   Store         6435 non-null   object        \n",
      " 1   Date          6435 non-null   datetime64[ns]\n",
      " 2   Weekly_Sales  6435 non-null   float64       \n",
      " 3   Holiday_Flag  6435 non-null   category      \n",
      " 4   Temperature   6435 non-null   float64       \n",
      " 5   Fuel_Price    6435 non-null   float64       \n",
      " 6   CPI           6435 non-null   float64       \n",
      " 7   Unemployment  6435 non-null   float64       \n",
      " 8   Week_number   6435 non-null   UInt32        \n",
      " 9   Year          6435 non-null   int64         \n",
      "dtypes: UInt32(1), category(1), datetime64[ns](1), float64(5), int64(1), object(1)\n",
      "memory usage: 440.1+ KB\n"
     ]
    }
   ],
   "source": [
    "# Converting the data values of the \"Date\" column from string to datetime64.\n",
    "df.Date =  pd.to_datetime(df.Date, format=\"%d-%m-%Y\")\n",
    "\n",
    "# Converting the data values of the \"Store\" column from integer to string.\n",
    "df.Store = df.Store.apply(str)\n",
    "\n",
    "#Converting the data value of the \"Holiday_Flag\" columns from integer to category\n",
    "df.Holiday_Flag = pd.Categorical(df.Holiday_Flag)\n",
    "\n",
    "# Rechecking the data type if they were changed\n",
    "df.info()"
   ]
  },
  {
   "cell_type": "markdown",
   "id": "eb1f3745",
   "metadata": {},
   "source": [
    "**The data types of the values in the \"Date\", \"Store\", and \"Holiday_Flag\" columns were changed.**"
   ]
  },
  {
   "cell_type": "markdown",
   "id": "abf22266",
   "metadata": {},
   "source": [
    "### c) Add two columns for the week number and year"
   ]
  },
  {
   "cell_type": "code",
   "execution_count": 21,
   "id": "c5948e12",
   "metadata": {
    "scrolled": true
   },
   "outputs": [
    {
     "data": {
      "text/html": [
       "<div>\n",
       "<style scoped>\n",
       "    .dataframe tbody tr th:only-of-type {\n",
       "        vertical-align: middle;\n",
       "    }\n",
       "\n",
       "    .dataframe tbody tr th {\n",
       "        vertical-align: top;\n",
       "    }\n",
       "\n",
       "    .dataframe thead th {\n",
       "        text-align: right;\n",
       "    }\n",
       "</style>\n",
       "<table border=\"1\" class=\"dataframe\">\n",
       "  <thead>\n",
       "    <tr style=\"text-align: right;\">\n",
       "      <th></th>\n",
       "      <th>Store</th>\n",
       "      <th>Date</th>\n",
       "      <th>Weekly_Sales</th>\n",
       "      <th>Holiday_Flag</th>\n",
       "      <th>Temperature</th>\n",
       "      <th>Fuel_Price</th>\n",
       "      <th>CPI</th>\n",
       "      <th>Unemployment</th>\n",
       "      <th>Week_number</th>\n",
       "      <th>Year</th>\n",
       "    </tr>\n",
       "  </thead>\n",
       "  <tbody>\n",
       "    <tr>\n",
       "      <th>0</th>\n",
       "      <td>1</td>\n",
       "      <td>2010-02-05</td>\n",
       "      <td>1643690.90</td>\n",
       "      <td>0</td>\n",
       "      <td>42.31</td>\n",
       "      <td>2.572</td>\n",
       "      <td>211.096358</td>\n",
       "      <td>8.106</td>\n",
       "      <td>5</td>\n",
       "      <td>2010</td>\n",
       "    </tr>\n",
       "    <tr>\n",
       "      <th>1</th>\n",
       "      <td>1</td>\n",
       "      <td>2010-02-12</td>\n",
       "      <td>1641957.44</td>\n",
       "      <td>1</td>\n",
       "      <td>38.51</td>\n",
       "      <td>2.548</td>\n",
       "      <td>211.242170</td>\n",
       "      <td>8.106</td>\n",
       "      <td>6</td>\n",
       "      <td>2010</td>\n",
       "    </tr>\n",
       "    <tr>\n",
       "      <th>2</th>\n",
       "      <td>1</td>\n",
       "      <td>2010-02-19</td>\n",
       "      <td>1611968.17</td>\n",
       "      <td>0</td>\n",
       "      <td>39.93</td>\n",
       "      <td>2.514</td>\n",
       "      <td>211.289143</td>\n",
       "      <td>8.106</td>\n",
       "      <td>7</td>\n",
       "      <td>2010</td>\n",
       "    </tr>\n",
       "    <tr>\n",
       "      <th>3</th>\n",
       "      <td>1</td>\n",
       "      <td>2010-02-26</td>\n",
       "      <td>1409727.59</td>\n",
       "      <td>0</td>\n",
       "      <td>46.63</td>\n",
       "      <td>2.561</td>\n",
       "      <td>211.319643</td>\n",
       "      <td>8.106</td>\n",
       "      <td>8</td>\n",
       "      <td>2010</td>\n",
       "    </tr>\n",
       "    <tr>\n",
       "      <th>4</th>\n",
       "      <td>1</td>\n",
       "      <td>2010-03-05</td>\n",
       "      <td>1554806.68</td>\n",
       "      <td>0</td>\n",
       "      <td>46.50</td>\n",
       "      <td>2.625</td>\n",
       "      <td>211.350143</td>\n",
       "      <td>8.106</td>\n",
       "      <td>9</td>\n",
       "      <td>2010</td>\n",
       "    </tr>\n",
       "  </tbody>\n",
       "</table>\n",
       "</div>"
      ],
      "text/plain": [
       "  Store       Date  Weekly_Sales Holiday_Flag  Temperature  Fuel_Price  \\\n",
       "0     1 2010-02-05    1643690.90            0        42.31       2.572   \n",
       "1     1 2010-02-12    1641957.44            1        38.51       2.548   \n",
       "2     1 2010-02-19    1611968.17            0        39.93       2.514   \n",
       "3     1 2010-02-26    1409727.59            0        46.63       2.561   \n",
       "4     1 2010-03-05    1554806.68            0        46.50       2.625   \n",
       "\n",
       "          CPI  Unemployment  Week_number  Year  \n",
       "0  211.096358         8.106            5  2010  \n",
       "1  211.242170         8.106            6  2010  \n",
       "2  211.289143         8.106            7  2010  \n",
       "3  211.319643         8.106            8  2010  \n",
       "4  211.350143         8.106            9  2010  "
      ]
     },
     "execution_count": 21,
     "metadata": {},
     "output_type": "execute_result"
    }
   ],
   "source": [
    "# Adding a column for week number\n",
    "df['Week_number'] = df['Date'].dt.isocalendar().week\n",
    "\n",
    "# Adding a column for the year\n",
    "df['Year'] = df['Date'].dt.year\n",
    "\n",
    "# Checking the dataset if changes were applied\n",
    "df.head()"
   ]
  },
  {
   "cell_type": "markdown",
   "id": "42984379",
   "metadata": {},
   "source": [
    "## 4) Data Analysis"
   ]
  },
  {
   "cell_type": "markdown",
   "id": "d8d9274c",
   "metadata": {},
   "source": [
    "### a) Who are the top 5 Walmart store branches in terms of total sales?"
   ]
  },
  {
   "cell_type": "code",
   "execution_count": 18,
   "id": "640a7780",
   "metadata": {
    "scrolled": false
   },
   "outputs": [
    {
     "data": {
      "text/html": [
       "<div>\n",
       "<style scoped>\n",
       "    .dataframe tbody tr th:only-of-type {\n",
       "        vertical-align: middle;\n",
       "    }\n",
       "\n",
       "    .dataframe tbody tr th {\n",
       "        vertical-align: top;\n",
       "    }\n",
       "\n",
       "    .dataframe thead th {\n",
       "        text-align: right;\n",
       "    }\n",
       "</style>\n",
       "<table border=\"1\" class=\"dataframe\">\n",
       "  <thead>\n",
       "    <tr style=\"text-align: right;\">\n",
       "      <th></th>\n",
       "      <th>Store</th>\n",
       "      <th>Total_Sales (in mln. USD)</th>\n",
       "    </tr>\n",
       "  </thead>\n",
       "  <tbody>\n",
       "    <tr>\n",
       "      <th>0</th>\n",
       "      <td>20</td>\n",
       "      <td>301.397792</td>\n",
       "    </tr>\n",
       "    <tr>\n",
       "      <th>1</th>\n",
       "      <td>4</td>\n",
       "      <td>299.543953</td>\n",
       "    </tr>\n",
       "    <tr>\n",
       "      <th>2</th>\n",
       "      <td>14</td>\n",
       "      <td>288.999911</td>\n",
       "    </tr>\n",
       "    <tr>\n",
       "      <th>3</th>\n",
       "      <td>13</td>\n",
       "      <td>286.517704</td>\n",
       "    </tr>\n",
       "    <tr>\n",
       "      <th>4</th>\n",
       "      <td>2</td>\n",
       "      <td>275.382441</td>\n",
       "    </tr>\n",
       "  </tbody>\n",
       "</table>\n",
       "</div>"
      ],
      "text/plain": [
       "  Store  Total_Sales (in mln. USD)\n",
       "0    20                 301.397792\n",
       "1     4                 299.543953\n",
       "2    14                 288.999911\n",
       "3    13                 286.517704\n",
       "4     2                 275.382441"
      ]
     },
     "execution_count": 18,
     "metadata": {},
     "output_type": "execute_result"
    }
   ],
   "source": [
    "# Grouping the dataset by store number then aggregating the total sales per store branch\n",
    "sales_per_branch = df.groupby('Store')['Weekly_Sales'].sum()\n",
    "\n",
    "# Converting the series into dataframe and sort the weekly sales per branch\n",
    "sales_per_branch = sales_per_branch.to_frame().sort_values(by='Weekly_Sales', ascending=False)\n",
    "\n",
    "sales_per_branch = sales_per_branch.reset_index()\n",
    "\n",
    "# Created a new column that will show the value of weekly sales in million USD\n",
    "sales_per_branch['Total_Sales (in mln. USD)'] = sales_per_branch['Weekly_Sales']/1e06\n",
    "\n",
    "# Droping the \"Weekly_Sales\" column and get the top 5 branches in terms of total sales\n",
    "top_5_branches = sales_per_branch.drop(columns=['Weekly_Sales']).head()\n",
    "top_5_branches"
   ]
  },
  {
   "cell_type": "code",
   "execution_count": 22,
   "id": "3d402554",
   "metadata": {},
   "outputs": [
    {
     "data": {
      "image/png": "[encoded data removed]",
      "text/plain": [
       "<Figure size 720x360 with 1 Axes>"
      ]
     },
     "metadata": {
      "needs_background": "light"
     },
     "output_type": "display_data"
    }
   ],
   "source": [
    "store = top_5_branches['Store']\n",
    "total_sales = top_5_branches['Total_Sales (in mln. USD)']\n",
    "\n",
    "fig = plt.figure(figsize = (10,5)) \n",
    "plt.bar(store, total_sales, color = '#0072ce', width = 0.4)\n",
    "plt.xlabel(\"Store Branches\")\n",
    "plt.ylabel(\"Total Sales (in mln. USD)\")\n",
    "plt.title(\"Top 5 Walmart Store Branches in Terms of Total Sales\")\n",
    "plt.show()"
   ]
  },
  {
   "cell_type": "markdown",
   "id": "e80c6aa5",
   "metadata": {},
   "source": [
    "**Store Branch Nos. 20, 4, 14, 13, and 2 are the top 5 Walmart store branches in terms of total sales.**"
   ]
  },
  {
   "cell_type": "code",
   "execution_count": null,
   "id": "2d39f757",
   "metadata": {},
   "outputs": [],
   "source": []
  }
 ],
 "metadata": {
  "kernelspec": {
   "display_name": "Python 3",
   "language": "python",
   "name": "python3"
  },
  "language_info": {
   "codemirror_mode": {
    "name": "ipython",
    "version": 3
   },
   "file_extension": ".py",
   "mimetype": "text/x-python",
   "name": "python",
   "nbconvert_exporter": "python",
   "pygments_lexer": "ipython3",
   "version": "3.8.8"
  }
 },
 "nbformat": 4,
 "nbformat_minor": 5
}
