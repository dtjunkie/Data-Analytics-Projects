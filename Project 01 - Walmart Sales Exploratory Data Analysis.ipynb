{
 "cells": [
  {
   "cell_type": "markdown",
   "id": "a12b6d82",
   "metadata": {},
   "source": [
    "# Walmart Sales Exploratory Data Analysis"
   ]
  },
  {
   "cell_type": "markdown",
   "id": "b320ca56",
   "metadata": {},
   "source": [
    "## 1) Importing the necessary modules"
   ]
  },
  {
   "cell_type": "code",
   "execution_count": 1,
   "id": "a66bb37f",
   "metadata": {},
   "outputs": [],
   "source": [
    "import pandas as pd\n",
    "import numpy as np\n",
    "import seaborn as sns\n",
    "import matplotlib.pyplot as plt\n",
    "from scipy import stats"
   ]
  },
  {
   "cell_type": "markdown",
   "id": "f9d2a63d",
   "metadata": {},
   "source": [
    "## 2) Loading the dataset"
   ]
  },
  {
   "cell_type": "code",
   "execution_count": 2,
   "id": "7a7b2780",
   "metadata": {},
   "outputs": [
    {
     "data": {
      "text/html": [
       "<div>\n",
       "<style scoped>\n",
       "    .dataframe tbody tr th:only-of-type {\n",
       "        vertical-align: middle;\n",
       "    }\n",
       "\n",
       "    .dataframe tbody tr th {\n",
       "        vertical-align: top;\n",
       "    }\n",
       "\n",
       "    .dataframe thead th {\n",
       "        text-align: right;\n",
       "    }\n",
       "</style>\n",
       "<table border=\"1\" class=\"dataframe\">\n",
       "  <thead>\n",
       "    <tr style=\"text-align: right;\">\n",
       "      <th></th>\n",
       "      <th>Store</th>\n",
       "      <th>Date</th>\n",
       "      <th>Weekly_Sales</th>\n",
       "      <th>Holiday_Flag</th>\n",
       "      <th>Temperature</th>\n",
       "      <th>Fuel_Price</th>\n",
       "      <th>CPI</th>\n",
       "      <th>Unemployment</th>\n",
       "    </tr>\n",
       "  </thead>\n",
       "  <tbody>\n",
       "    <tr>\n",
       "      <th>0</th>\n",
       "      <td>1</td>\n",
       "      <td>05-02-2010</td>\n",
       "      <td>1643690.90</td>\n",
       "      <td>0</td>\n",
       "      <td>42.31</td>\n",
       "      <td>2.572</td>\n",
       "      <td>211.096358</td>\n",
       "      <td>8.106</td>\n",
       "    </tr>\n",
       "    <tr>\n",
       "      <th>1</th>\n",
       "      <td>1</td>\n",
       "      <td>12-02-2010</td>\n",
       "      <td>1641957.44</td>\n",
       "      <td>1</td>\n",
       "      <td>38.51</td>\n",
       "      <td>2.548</td>\n",
       "      <td>211.242170</td>\n",
       "      <td>8.106</td>\n",
       "    </tr>\n",
       "    <tr>\n",
       "      <th>2</th>\n",
       "      <td>1</td>\n",
       "      <td>19-02-2010</td>\n",
       "      <td>1611968.17</td>\n",
       "      <td>0</td>\n",
       "      <td>39.93</td>\n",
       "      <td>2.514</td>\n",
       "      <td>211.289143</td>\n",
       "      <td>8.106</td>\n",
       "    </tr>\n",
       "    <tr>\n",
       "      <th>3</th>\n",
       "      <td>1</td>\n",
       "      <td>26-02-2010</td>\n",
       "      <td>1409727.59</td>\n",
       "      <td>0</td>\n",
       "      <td>46.63</td>\n",
       "      <td>2.561</td>\n",
       "      <td>211.319643</td>\n",
       "      <td>8.106</td>\n",
       "    </tr>\n",
       "    <tr>\n",
       "      <th>4</th>\n",
       "      <td>1</td>\n",
       "      <td>05-03-2010</td>\n",
       "      <td>1554806.68</td>\n",
       "      <td>0</td>\n",
       "      <td>46.50</td>\n",
       "      <td>2.625</td>\n",
       "      <td>211.350143</td>\n",
       "      <td>8.106</td>\n",
       "    </tr>\n",
       "  </tbody>\n",
       "</table>\n",
       "</div>"
      ],
      "text/plain": [
       "   Store        Date  Weekly_Sales  Holiday_Flag  Temperature  Fuel_Price  \\\n",
       "0      1  05-02-2010    1643690.90             0        42.31       2.572   \n",
       "1      1  12-02-2010    1641957.44             1        38.51       2.548   \n",
       "2      1  19-02-2010    1611968.17             0        39.93       2.514   \n",
       "3      1  26-02-2010    1409727.59             0        46.63       2.561   \n",
       "4      1  05-03-2010    1554806.68             0        46.50       2.625   \n",
       "\n",
       "          CPI  Unemployment  \n",
       "0  211.096358         8.106  \n",
       "1  211.242170         8.106  \n",
       "2  211.289143         8.106  \n",
       "3  211.319643         8.106  \n",
       "4  211.350143         8.106  "
      ]
     },
     "execution_count": 2,
     "metadata": {},
     "output_type": "execute_result"
    }
   ],
   "source": [
    "df = pd.read_csv('Walmart.csv')\n",
    "df.head()"
   ]
  },
  {
   "cell_type": "markdown",
   "id": "f95282d3",
   "metadata": {},
   "source": [
    "## 3) Exploring the dataframe"
   ]
  },
  {
   "cell_type": "markdown",
   "id": "5e1e4201",
   "metadata": {},
   "source": [
    "### a) Determine the shape of the dataframe"
   ]
  },
  {
   "cell_type": "code",
   "execution_count": 3,
   "id": "264fa6b3",
   "metadata": {},
   "outputs": [
    {
     "name": "stdout",
     "output_type": "stream",
     "text": [
      "This dataset has 6435 rows and 8 columns.\n"
     ]
    }
   ],
   "source": [
    "rows = df.shape[0]\n",
    "columns =df.shape[1]\n",
    "\n",
    "print(\"This dataset has\",rows,\"rows and\",columns,\"columns.\")"
   ]
  },
  {
   "cell_type": "markdown",
   "id": "16e0afcb",
   "metadata": {},
   "source": [
    "### b) Check the summary of the dataframe"
   ]
  },
  {
   "cell_type": "code",
   "execution_count": 4,
   "id": "47151586",
   "metadata": {
    "scrolled": true
   },
   "outputs": [
    {
     "name": "stdout",
     "output_type": "stream",
     "text": [
      "<class 'pandas.core.frame.DataFrame'>\n",
      "RangeIndex: 6435 entries, 0 to 6434\n",
      "Data columns (total 8 columns):\n",
      " #   Column        Non-Null Count  Dtype  \n",
      "---  ------        --------------  -----  \n",
      " 0   Store         6435 non-null   int64  \n",
      " 1   Date          6435 non-null   object \n",
      " 2   Weekly_Sales  6435 non-null   float64\n",
      " 3   Holiday_Flag  6435 non-null   int64  \n",
      " 4   Temperature   6435 non-null   float64\n",
      " 5   Fuel_Price    6435 non-null   float64\n",
      " 6   CPI           6435 non-null   float64\n",
      " 7   Unemployment  6435 non-null   float64\n",
      "dtypes: float64(5), int64(2), object(1)\n",
      "memory usage: 402.3+ KB\n"
     ]
    }
   ],
   "source": [
    "df.info()"
   ]
  },
  {
   "cell_type": "markdown",
   "id": "2c539d4e",
   "metadata": {},
   "source": [
    "#### Observations:\n",
    "\n",
    "1. The data type of the values in the Date column is an string. We will convert them into a datetime data type.\n",
    "2. The data type of the values in the Store column is an integer. We will convert them into a string data type.\n",
    "3. The data type for the values in the Holiday_Flag column are integers. We will convert it into a categorical data type since the values are used for identification purposes."
   ]
  },
  {
   "cell_type": "markdown",
   "id": "c75865d7",
   "metadata": {},
   "source": [
    "## 4) Cleaning the data"
   ]
  },
  {
   "cell_type": "markdown",
   "id": "2fff8f37",
   "metadata": {},
   "source": [
    "### a) Handling missing values"
   ]
  },
  {
   "cell_type": "code",
   "execution_count": 5,
   "id": "35bd7408",
   "metadata": {},
   "outputs": [
    {
     "data": {
      "text/plain": [
       "Store           0\n",
       "Date            0\n",
       "Weekly_Sales    0\n",
       "Holiday_Flag    0\n",
       "Temperature     0\n",
       "Fuel_Price      0\n",
       "CPI             0\n",
       "Unemployment    0\n",
       "dtype: int64"
      ]
     },
     "execution_count": 5,
     "metadata": {},
     "output_type": "execute_result"
    }
   ],
   "source": [
    "# Getting the number of missing data points per column\n",
    "missing_values = df.isnull().sum()\n",
    "\n",
    "# Look at the number of missing data points in the first tn columns\n",
    "missing_values[0:10]"
   ]
  },
  {
   "cell_type": "markdown",
   "id": "e1380156",
   "metadata": {},
   "source": [
    "**There are no missing data points in this data set.**"
   ]
  },
  {
   "cell_type": "markdown",
   "id": "2940763a",
   "metadata": {},
   "source": [
    "### b) Converting incorrect data types"
   ]
  },
  {
   "cell_type": "code",
   "execution_count": 6,
   "id": "93cbe1bd",
   "metadata": {},
   "outputs": [
    {
     "name": "stdout",
     "output_type": "stream",
     "text": [
      "<class 'pandas.core.frame.DataFrame'>\n",
      "RangeIndex: 6435 entries, 0 to 6434\n",
      "Data columns (total 8 columns):\n",
      " #   Column        Non-Null Count  Dtype         \n",
      "---  ------        --------------  -----         \n",
      " 0   Store         6435 non-null   object        \n",
      " 1   Date          6435 non-null   datetime64[ns]\n",
      " 2   Weekly_Sales  6435 non-null   float64       \n",
      " 3   Holiday_Flag  6435 non-null   category      \n",
      " 4   Temperature   6435 non-null   float64       \n",
      " 5   Fuel_Price    6435 non-null   float64       \n",
      " 6   CPI           6435 non-null   float64       \n",
      " 7   Unemployment  6435 non-null   float64       \n",
      "dtypes: category(1), datetime64[ns](1), float64(5), object(1)\n",
      "memory usage: 358.4+ KB\n"
     ]
    }
   ],
   "source": [
    "# Converting the data values of the \"Date\" column from string to datetime64.\n",
    "df.Date =  pd.to_datetime(df.Date, format=\"%d-%m-%Y\")\n",
    "\n",
    "# Converting the data values of the \"Store\" column from integer to string.\n",
    "df.Store = df.Store.apply(str)\n",
    "\n",
    "#Converting the data value of the \"Holiday_Flag\" columns from integer to category\n",
    "df.Holiday_Flag = pd.Categorical(df.Holiday_Flag)\n",
    "\n",
    "# Rechecking the data type if they were changed\n",
    "df.info()"
   ]
  },
  {
   "cell_type": "markdown",
   "id": "eb1f3745",
   "metadata": {},
   "source": [
    "**The data types of the values in the \"Date\", \"Store\", and \"Holiday_Flag\" columns were changed.**"
   ]
  },
  {
   "cell_type": "markdown",
   "id": "abf22266",
   "metadata": {},
   "source": [
    "### c) Add three columns for the month, week number and year"
   ]
  },
  {
   "cell_type": "code",
   "execution_count": 7,
   "id": "c5948e12",
   "metadata": {
    "scrolled": true
   },
   "outputs": [
    {
     "name": "stdout",
     "output_type": "stream",
     "text": [
      "<class 'pandas.core.frame.DataFrame'>\n",
      "RangeIndex: 6435 entries, 0 to 6434\n",
      "Data columns (total 11 columns):\n",
      " #   Column        Non-Null Count  Dtype         \n",
      "---  ------        --------------  -----         \n",
      " 0   Store         6435 non-null   object        \n",
      " 1   Date          6435 non-null   datetime64[ns]\n",
      " 2   Weekly_Sales  6435 non-null   float64       \n",
      " 3   Holiday_Flag  6435 non-null   category      \n",
      " 4   Temperature   6435 non-null   float64       \n",
      " 5   Fuel_Price    6435 non-null   float64       \n",
      " 6   CPI           6435 non-null   float64       \n",
      " 7   Unemployment  6435 non-null   float64       \n",
      " 8   Month         6435 non-null   int64         \n",
      " 9   Week_number   6435 non-null   UInt32        \n",
      " 10  Year          6435 non-null   int64         \n",
      "dtypes: UInt32(1), category(1), datetime64[ns](1), float64(5), int64(2), object(1)\n",
      "memory usage: 490.4+ KB\n"
     ]
    }
   ],
   "source": [
    "# Adding a column for the month\n",
    "df['Month'] = df['Date'].dt.month\n",
    "\n",
    "# Adding a column for week number\n",
    "df['Week_number'] = df['Date'].dt.isocalendar().week\n",
    "\n",
    "# Adding a column for the year\n",
    "df['Year'] = df['Date'].dt.year\n",
    "\n",
    "# Checking the dataset if changes were applied\n",
    "df.info()"
   ]
  },
  {
   "cell_type": "markdown",
   "id": "42984379",
   "metadata": {},
   "source": [
    "## 4) Data Analysis"
   ]
  },
  {
   "cell_type": "markdown",
   "id": "d8d9274c",
   "metadata": {},
   "source": [
    "### a) Who are the top 5 best performing Walmart store branches in terms of total sales?"
   ]
  },
  {
   "cell_type": "code",
   "execution_count": 8,
   "id": "640a7780",
   "metadata": {
    "scrolled": false
   },
   "outputs": [
    {
     "data": {
      "text/html": [
       "<div>\n",
       "<style scoped>\n",
       "    .dataframe tbody tr th:only-of-type {\n",
       "        vertical-align: middle;\n",
       "    }\n",
       "\n",
       "    .dataframe tbody tr th {\n",
       "        vertical-align: top;\n",
       "    }\n",
       "\n",
       "    .dataframe thead th {\n",
       "        text-align: right;\n",
       "    }\n",
       "</style>\n",
       "<table border=\"1\" class=\"dataframe\">\n",
       "  <thead>\n",
       "    <tr style=\"text-align: right;\">\n",
       "      <th></th>\n",
       "      <th>Store</th>\n",
       "      <th>Total_Sales (in mln. USD)</th>\n",
       "    </tr>\n",
       "  </thead>\n",
       "  <tbody>\n",
       "    <tr>\n",
       "      <th>0</th>\n",
       "      <td>20</td>\n",
       "      <td>301.397792</td>\n",
       "    </tr>\n",
       "    <tr>\n",
       "      <th>1</th>\n",
       "      <td>4</td>\n",
       "      <td>299.543953</td>\n",
       "    </tr>\n",
       "    <tr>\n",
       "      <th>2</th>\n",
       "      <td>14</td>\n",
       "      <td>288.999911</td>\n",
       "    </tr>\n",
       "    <tr>\n",
       "      <th>3</th>\n",
       "      <td>13</td>\n",
       "      <td>286.517704</td>\n",
       "    </tr>\n",
       "    <tr>\n",
       "      <th>4</th>\n",
       "      <td>2</td>\n",
       "      <td>275.382441</td>\n",
       "    </tr>\n",
       "  </tbody>\n",
       "</table>\n",
       "</div>"
      ],
      "text/plain": [
       "  Store  Total_Sales (in mln. USD)\n",
       "0    20                 301.397792\n",
       "1     4                 299.543953\n",
       "2    14                 288.999911\n",
       "3    13                 286.517704\n",
       "4     2                 275.382441"
      ]
     },
     "execution_count": 8,
     "metadata": {},
     "output_type": "execute_result"
    }
   ],
   "source": [
    "# Grouping the dataset by store number then aggregating the total sales per store branch\n",
    "sales_per_branch = df.groupby('Store')['Weekly_Sales'].sum()\n",
    "\n",
    "# Converting the series into dataframe and sort the weekly sales per branch\n",
    "sales_per_branch = sales_per_branch.to_frame().sort_values(by='Weekly_Sales', ascending=False)\n",
    "\n",
    "sales_per_branch = sales_per_branch.reset_index()\n",
    "\n",
    "# Created a new column that will show the value of weekly sales in million USD\n",
    "sales_per_branch['Total_Sales (in mln. USD)'] = sales_per_branch['Weekly_Sales']/1e06\n",
    "\n",
    "# Dropping the \"Weekly_Sales\" column and get the top 5 branches in terms of total sales\n",
    "top_5_best = sales_per_branch.drop(columns=['Weekly_Sales']).head()\n",
    "top_5_best"
   ]
  },
  {
   "cell_type": "code",
   "execution_count": 9,
   "id": "3d402554",
   "metadata": {},
   "outputs": [
    {
     "data": {
      "image/png": "[encoded data removed]",
      "text/plain": [
       "<Figure size 720x360 with 1 Axes>"
      ]
     },
     "metadata": {
      "needs_background": "light"
     },
     "output_type": "display_data"
    }
   ],
   "source": [
    "# Creating a bar graph\n",
    "store = top_5_best['Store']\n",
    "total_sales = top_5_best['Total_Sales (in mln. USD)']\n",
    "\n",
    "fig = plt.figure(figsize = (10,5)) \n",
    "plt.bar(store, total_sales, color = '#0072ce', width = 0.4)\n",
    "plt.xlabel(\"Store Branches\")\n",
    "plt.ylabel(\"Total Sales (in mln. USD)\")\n",
    "plt.title(\"Top 5 Best Performing Walmart Store Branches in Terms of Total Sales\")\n",
    "plt.show()"
   ]
  },
  {
   "cell_type": "markdown",
   "id": "62246596",
   "metadata": {},
   "source": [
    "**Store Branch Nos. 20, 4, 14, 13, and 2 are the top 5 best performing Walmart store branches in terms of total sales.**"
   ]
  },
  {
   "cell_type": "markdown",
   "id": "37172576",
   "metadata": {},
   "source": [
    "### b) Who are the top 5 worst performing Walmart store branches in terms of total sales?"
   ]
  },
  {
   "cell_type": "code",
   "execution_count": 10,
   "id": "1d6f96b1",
   "metadata": {},
   "outputs": [
    {
     "data": {
      "text/html": [
       "<div>\n",
       "<style scoped>\n",
       "    .dataframe tbody tr th:only-of-type {\n",
       "        vertical-align: middle;\n",
       "    }\n",
       "\n",
       "    .dataframe tbody tr th {\n",
       "        vertical-align: top;\n",
       "    }\n",
       "\n",
       "    .dataframe thead th {\n",
       "        text-align: right;\n",
       "    }\n",
       "</style>\n",
       "<table border=\"1\" class=\"dataframe\">\n",
       "  <thead>\n",
       "    <tr style=\"text-align: right;\">\n",
       "      <th></th>\n",
       "      <th>Store</th>\n",
       "      <th>Total_Sales (in mln. USD)</th>\n",
       "    </tr>\n",
       "  </thead>\n",
       "  <tbody>\n",
       "    <tr>\n",
       "      <th>40</th>\n",
       "      <td>38</td>\n",
       "      <td>55.159626</td>\n",
       "    </tr>\n",
       "    <tr>\n",
       "      <th>41</th>\n",
       "      <td>36</td>\n",
       "      <td>53.412215</td>\n",
       "    </tr>\n",
       "    <tr>\n",
       "      <th>42</th>\n",
       "      <td>5</td>\n",
       "      <td>45.475689</td>\n",
       "    </tr>\n",
       "    <tr>\n",
       "      <th>43</th>\n",
       "      <td>44</td>\n",
       "      <td>43.293088</td>\n",
       "    </tr>\n",
       "    <tr>\n",
       "      <th>44</th>\n",
       "      <td>33</td>\n",
       "      <td>37.160222</td>\n",
       "    </tr>\n",
       "  </tbody>\n",
       "</table>\n",
       "</div>"
      ],
      "text/plain": [
       "   Store  Total_Sales (in mln. USD)\n",
       "40    38                  55.159626\n",
       "41    36                  53.412215\n",
       "42     5                  45.475689\n",
       "43    44                  43.293088\n",
       "44    33                  37.160222"
      ]
     },
     "execution_count": 10,
     "metadata": {},
     "output_type": "execute_result"
    }
   ],
   "source": [
    "# Creating a dataset showing only the last 5 rows from the sales_per_branch\n",
    "top_5_worst = sales_per_branch.drop(columns=['Weekly_Sales']).tail()\n",
    "top_5_worst"
   ]
  },
  {
   "cell_type": "code",
   "execution_count": 11,
   "id": "9c6b0806",
   "metadata": {},
   "outputs": [
    {
     "data": {
      "image/png": "[encoded data removed]",
      "text/plain": [
       "<Figure size 720x360 with 1 Axes>"
      ]
     },
     "metadata": {
      "needs_background": "light"
     },
     "output_type": "display_data"
    }
   ],
   "source": [
    "# Creating a bar graph\n",
    "store = top_5_worst['Store']\n",
    "total_sales = top_5_worst['Total_Sales (in mln. USD)']\n",
    "\n",
    "fig = plt.figure(figsize = (10,5)) \n",
    "plt.bar(store, total_sales, color = '#0072ce', width = 0.4)\n",
    "plt.xlabel(\"Store Branches\")\n",
    "plt.ylabel(\"Total Sales (in mln. USD)\")\n",
    "plt.title(\"Top 5 Worst Performing Walmart Store Branches in Terms of Total Sales\")\n",
    "plt.show()\n"
   ]
  },
  {
   "cell_type": "markdown",
   "id": "4f7699c0",
   "metadata": {},
   "source": [
    "**Store Branch Nos. 38, 36, 5, 44, and 33 are the top 5 worst performing Walmart store branches in terms of sales.**"
   ]
  },
  {
   "cell_type": "markdown",
   "id": "08f62444",
   "metadata": {},
   "source": [
    "### c) What is the correlation between the store branches' total sales and their mean temperature"
   ]
  },
  {
   "cell_type": "code",
   "execution_count": 12,
   "id": "4c212edb",
   "metadata": {},
   "outputs": [
    {
     "data": {
      "text/html": [
       "<div>\n",
       "<style scoped>\n",
       "    .dataframe tbody tr th:only-of-type {\n",
       "        vertical-align: middle;\n",
       "    }\n",
       "\n",
       "    .dataframe tbody tr th {\n",
       "        vertical-align: top;\n",
       "    }\n",
       "\n",
       "    .dataframe thead th {\n",
       "        text-align: right;\n",
       "    }\n",
       "</style>\n",
       "<table border=\"1\" class=\"dataframe\">\n",
       "  <thead>\n",
       "    <tr style=\"text-align: right;\">\n",
       "      <th></th>\n",
       "      <th>Store</th>\n",
       "      <th>Total_Sales (in mln. USD)</th>\n",
       "      <th>Mean Temperature</th>\n",
       "    </tr>\n",
       "  </thead>\n",
       "  <tbody>\n",
       "    <tr>\n",
       "      <th>0</th>\n",
       "      <td>1</td>\n",
       "      <td>222.402809</td>\n",
       "      <td>68.306783</td>\n",
       "    </tr>\n",
       "    <tr>\n",
       "      <th>1</th>\n",
       "      <td>2</td>\n",
       "      <td>275.382441</td>\n",
       "      <td>68.216364</td>\n",
       "    </tr>\n",
       "    <tr>\n",
       "      <th>2</th>\n",
       "      <td>3</td>\n",
       "      <td>57.586735</td>\n",
       "      <td>71.434196</td>\n",
       "    </tr>\n",
       "    <tr>\n",
       "      <th>3</th>\n",
       "      <td>4</td>\n",
       "      <td>299.543953</td>\n",
       "      <td>62.253357</td>\n",
       "    </tr>\n",
       "    <tr>\n",
       "      <th>4</th>\n",
       "      <td>5</td>\n",
       "      <td>45.475689</td>\n",
       "      <td>69.410140</td>\n",
       "    </tr>\n",
       "  </tbody>\n",
       "</table>\n",
       "</div>"
      ],
      "text/plain": [
       "   Store  Total_Sales (in mln. USD)  Mean Temperature\n",
       "0      1                 222.402809         68.306783\n",
       "1      2                 275.382441         68.216364\n",
       "2      3                  57.586735         71.434196\n",
       "3      4                 299.543953         62.253357\n",
       "4      5                  45.475689         69.410140"
      ]
     },
     "execution_count": 12,
     "metadata": {},
     "output_type": "execute_result"
    }
   ],
   "source": [
    "# Creating a new dataset consisting the store branch number, the total sales, and the mean temperature\n",
    "\n",
    "sales_vs_temp = sales_per_branch.drop(columns=['Weekly_Sales'])\n",
    "sales_vs_temp['Store'] = sales_vs_temp['Store'].astype('int64')\n",
    "sales_vs_temp = sales_vs_temp.sort_values(by='Store', ascending=True).reset_index()\n",
    "sales_vs_temp = sales_vs_temp.drop(columns=['index'])\n",
    "\n",
    "temp = df.groupby('Store')['Temperature'].mean()\n",
    "temp = temp.to_frame().reset_index()\n",
    "temp['Store'] = temp['Store'].astype('int64')\n",
    "temp = temp.sort_values(by='Store', ascending=True).reset_index()\n",
    "temp = temp.drop(columns=['index'])\n",
    "\n",
    "sales_vs_temp['Mean Temperature'] = temp['Temperature']\n",
    "sales_vs_temp.head()"
   ]
  },
  {
   "cell_type": "code",
   "execution_count": 13,
   "id": "7a072b62",
   "metadata": {},
   "outputs": [
    {
     "data": {
      "image/png": "[encoded data removed]",
      "text/plain": [
       "<Figure size 720x360 with 1 Axes>"
      ]
     },
     "metadata": {
      "needs_background": "light"
     },
     "output_type": "display_data"
    }
   ],
   "source": [
    "# Creating a scatterplot\n",
    "temp = sales_vs_temp['Mean Temperature']\n",
    "total_sales = sales_vs_temp['Total_Sales (in mln. USD)']\n",
    "\n",
    "fig = plt.figure(figsize = (10,5)) \n",
    "plt.scatter(temp, total_sales, c= '#0072ce' )\n",
    "\n",
    "z = np.polyfit(temp, total_sales, 1)\n",
    "p = np.poly1d(z)\n",
    "plt.plot(temp, p(temp),\"g\")\n",
    "\n",
    "plt.xlabel(\"Mean Temperature\")\n",
    "plt.ylabel(\"Total Sales (in mln. USD)\")\n",
    "plt.title(\"Correlation Between Total Sales and Mean Temperature\")\n",
    "plt.show()"
   ]
  },
  {
   "cell_type": "code",
   "execution_count": 14,
   "id": "7283923b",
   "metadata": {},
   "outputs": [
    {
     "data": {
      "text/plain": [
       "(-0.07638774908646388, 0.6179663423198986)"
      ]
     },
     "execution_count": 14,
     "metadata": {},
     "output_type": "execute_result"
    }
   ],
   "source": [
    "# Determining the Pearson coefficient ratio\n",
    "\n",
    "stats.pearsonr(temp, total_sales)"
   ]
  },
  {
   "cell_type": "markdown",
   "id": "e66eb645",
   "metadata": {},
   "source": [
    "**There is a negligible correlation between the the store branches' total sales and their mean temperatures.**"
   ]
  },
  {
   "cell_type": "markdown",
   "id": "ab2fd4cd",
   "metadata": {},
   "source": [
    "### d) What is the correlation between the store branches' mean weekly sales and the mean fuel price"
   ]
  },
  {
   "cell_type": "code",
   "execution_count": 15,
   "id": "849fe41e",
   "metadata": {},
   "outputs": [
    {
     "name": "stderr",
     "output_type": "stream",
     "text": [
      "<ipython-input-15-d9945e35785a>:5: FutureWarning: Indexing with multiple keys (implicitly converted to a tuple of keys) will be deprecated, use a list instead.\n",
      "  msales_vs_mfuel = df_2.groupby('Store')['Weekly_Sales','Fuel_Price'].mean()\n"
     ]
    },
    {
     "data": {
      "text/html": [
       "<div>\n",
       "<style scoped>\n",
       "    .dataframe tbody tr th:only-of-type {\n",
       "        vertical-align: middle;\n",
       "    }\n",
       "\n",
       "    .dataframe tbody tr th {\n",
       "        vertical-align: top;\n",
       "    }\n",
       "\n",
       "    .dataframe thead th {\n",
       "        text-align: right;\n",
       "    }\n",
       "</style>\n",
       "<table border=\"1\" class=\"dataframe\">\n",
       "  <thead>\n",
       "    <tr style=\"text-align: right;\">\n",
       "      <th></th>\n",
       "      <th>Weekly_Sales</th>\n",
       "      <th>Fuel_Price</th>\n",
       "    </tr>\n",
       "    <tr>\n",
       "      <th>Store</th>\n",
       "      <th></th>\n",
       "      <th></th>\n",
       "    </tr>\n",
       "  </thead>\n",
       "  <tbody>\n",
       "    <tr>\n",
       "      <th>1</th>\n",
       "      <td>1.555264e+06</td>\n",
       "      <td>3.219699</td>\n",
       "    </tr>\n",
       "    <tr>\n",
       "      <th>2</th>\n",
       "      <td>1.925751e+06</td>\n",
       "      <td>3.219699</td>\n",
       "    </tr>\n",
       "    <tr>\n",
       "      <th>3</th>\n",
       "      <td>4.027044e+05</td>\n",
       "      <td>3.219699</td>\n",
       "    </tr>\n",
       "    <tr>\n",
       "      <th>4</th>\n",
       "      <td>2.094713e+06</td>\n",
       "      <td>3.216972</td>\n",
       "    </tr>\n",
       "    <tr>\n",
       "      <th>5</th>\n",
       "      <td>3.180118e+05</td>\n",
       "      <td>3.219699</td>\n",
       "    </tr>\n",
       "  </tbody>\n",
       "</table>\n",
       "</div>"
      ],
      "text/plain": [
       "       Weekly_Sales  Fuel_Price\n",
       "Store                          \n",
       "1      1.555264e+06    3.219699\n",
       "2      1.925751e+06    3.219699\n",
       "3      4.027044e+05    3.219699\n",
       "4      2.094713e+06    3.216972\n",
       "5      3.180118e+05    3.219699"
      ]
     },
     "execution_count": 15,
     "metadata": {},
     "output_type": "execute_result"
    }
   ],
   "source": [
    "# Creating a new dataset which consists of the store branch number, mean weekly sale, and mean fuel price\n",
    "\n",
    "df_2 = df.copy()\n",
    "df_2['Store'] = df_2['Store'].astype('int64')\n",
    "msales_vs_mfuel = df_2.groupby('Store')['Weekly_Sales','Fuel_Price'].mean()\n",
    "msales_vs_mfuel.head()"
   ]
  },
  {
   "cell_type": "code",
   "execution_count": 16,
   "id": "78a7bd4d",
   "metadata": {},
   "outputs": [
    {
     "data": {
      "image/png": "[encoded data removed]",
      "text/plain": [
       "<Figure size 720x360 with 1 Axes>"
      ]
     },
     "metadata": {
      "needs_background": "light"
     },
     "output_type": "display_data"
    }
   ],
   "source": [
    "# Creating a scatterplot\n",
    "mfuel = msales_vs_mfuel['Fuel_Price']\n",
    "msales = msales_vs_mfuel['Weekly_Sales']\n",
    "\n",
    "fig = plt.figure(figsize = (10,5)) \n",
    "plt.scatter(mfuel, msales, c= '#0072ce' )\n",
    "\n",
    "z = np.polyfit(mfuel, msales, 1)\n",
    "p = np.poly1d(z)\n",
    "plt.plot(mfuel, p(mfuel),\"g\")\n",
    "\n",
    "plt.xlabel(\"Mean Fuel Price\")\n",
    "plt.ylabel(\"Mean Weekly Sales (in mln. USD)\")\n",
    "plt.title(\"Correlation Between Mean Weekly Sales and Mean Fuel Price\")\n",
    "plt.show()"
   ]
  },
  {
   "cell_type": "code",
   "execution_count": 17,
   "id": "0a791333",
   "metadata": {
    "scrolled": true
   },
   "outputs": [
    {
     "data": {
      "text/plain": [
       "(0.06773422508957701, 0.6584189067151794)"
      ]
     },
     "execution_count": 17,
     "metadata": {},
     "output_type": "execute_result"
    }
   ],
   "source": [
    "# Determining the Pearson coefficient ratio\n",
    "\n",
    "stats.pearsonr(mfuel, msales)"
   ]
  },
  {
   "cell_type": "markdown",
   "id": "3423138f",
   "metadata": {},
   "source": [
    "**There is a negligible correlation between the the store branches' mean weekly sales and the mean fuel price.**"
   ]
  },
  {
   "cell_type": "markdown",
   "id": "883d562a",
   "metadata": {},
   "source": [
    "### e) What is the correlation between the store branches' mean weekly sales and the mean consumer price index(CPI)?"
   ]
  },
  {
   "cell_type": "code",
   "execution_count": 18,
   "id": "e9147d25",
   "metadata": {},
   "outputs": [
    {
     "name": "stderr",
     "output_type": "stream",
     "text": [
      "<ipython-input-18-4c0de69932ef>:3: FutureWarning: Indexing with multiple keys (implicitly converted to a tuple of keys) will be deprecated, use a list instead.\n",
      "  msales_vs_mcpi = df_2.groupby('Store')['Weekly_Sales', 'CPI'].mean()\n"
     ]
    },
    {
     "data": {
      "text/html": [
       "<div>\n",
       "<style scoped>\n",
       "    .dataframe tbody tr th:only-of-type {\n",
       "        vertical-align: middle;\n",
       "    }\n",
       "\n",
       "    .dataframe tbody tr th {\n",
       "        vertical-align: top;\n",
       "    }\n",
       "\n",
       "    .dataframe thead th {\n",
       "        text-align: right;\n",
       "    }\n",
       "</style>\n",
       "<table border=\"1\" class=\"dataframe\">\n",
       "  <thead>\n",
       "    <tr style=\"text-align: right;\">\n",
       "      <th></th>\n",
       "      <th>Weekly_Sales</th>\n",
       "      <th>CPI</th>\n",
       "    </tr>\n",
       "    <tr>\n",
       "      <th>Store</th>\n",
       "      <th></th>\n",
       "      <th></th>\n",
       "    </tr>\n",
       "  </thead>\n",
       "  <tbody>\n",
       "    <tr>\n",
       "      <th>1</th>\n",
       "      <td>1.555264e+06</td>\n",
       "      <td>215.996892</td>\n",
       "    </tr>\n",
       "    <tr>\n",
       "      <th>2</th>\n",
       "      <td>1.925751e+06</td>\n",
       "      <td>215.646311</td>\n",
       "    </tr>\n",
       "    <tr>\n",
       "      <th>3</th>\n",
       "      <td>4.027044e+05</td>\n",
       "      <td>219.391531</td>\n",
       "    </tr>\n",
       "    <tr>\n",
       "      <th>4</th>\n",
       "      <td>2.094713e+06</td>\n",
       "      <td>128.679669</td>\n",
       "    </tr>\n",
       "    <tr>\n",
       "      <th>5</th>\n",
       "      <td>3.180118e+05</td>\n",
       "      <td>216.565581</td>\n",
       "    </tr>\n",
       "  </tbody>\n",
       "</table>\n",
       "</div>"
      ],
      "text/plain": [
       "       Weekly_Sales         CPI\n",
       "Store                          \n",
       "1      1.555264e+06  215.996892\n",
       "2      1.925751e+06  215.646311\n",
       "3      4.027044e+05  219.391531\n",
       "4      2.094713e+06  128.679669\n",
       "5      3.180118e+05  216.565581"
      ]
     },
     "execution_count": 18,
     "metadata": {},
     "output_type": "execute_result"
    }
   ],
   "source": [
    "# Creating a dataset that consist of the store branch number, the mean weekly sales, and the mean consumer price index(CPI)\n",
    "\n",
    "msales_vs_mcpi = df_2.groupby('Store')['Weekly_Sales', 'CPI'].mean()\n",
    "msales_vs_mcpi.head()"
   ]
  },
  {
   "cell_type": "code",
   "execution_count": 19,
   "id": "b0d9707c",
   "metadata": {},
   "outputs": [
    {
     "data": {
      "image/png": "[encoded data removed]",
      "text/plain": [
       "<Figure size 720x360 with 1 Axes>"
      ]
     },
     "metadata": {
      "needs_background": "light"
     },
     "output_type": "display_data"
    }
   ],
   "source": [
    "# Creating a scatterplot\n",
    "\n",
    "mcpi = msales_vs_mcpi['CPI']\n",
    "msales = msales_vs_mcpi['Weekly_Sales']\n",
    "\n",
    "fig = plt.figure(figsize = (10,5)) \n",
    "plt.scatter(mcpi, msales, c= '#0072ce' )\n",
    "\n",
    "z = np.polyfit(mcpi, msales, 1)\n",
    "p = np.poly1d(z)\n",
    "plt.plot(mcpi, p(mcpi),\"g\")\n",
    "\n",
    "plt.xlabel(\"Mean CPI\")\n",
    "plt.ylabel(\"Mean Weekly Sales (in mln. USD)\")\n",
    "plt.title(\"Correlation Between Mean Weekly Sales and Mean CPI\")\n",
    "plt.show()"
   ]
  },
  {
   "cell_type": "code",
   "execution_count": 20,
   "id": "4ad2aa4e",
   "metadata": {},
   "outputs": [
    {
     "data": {
      "text/plain": [
       "(-0.07656886071136423, 0.6171309899200206)"
      ]
     },
     "execution_count": 20,
     "metadata": {},
     "output_type": "execute_result"
    }
   ],
   "source": [
    "#Determining the Pearson correlation coefficient\n",
    "\n",
    "stats.pearsonr(mcpi, msales)"
   ]
  },
  {
   "cell_type": "markdown",
   "id": "e39c7d03",
   "metadata": {},
   "source": [
    "**There is a negligible correlation between the the store branches' mean weekly sales and the mean consumer price index(CPI).**"
   ]
  },
  {
   "cell_type": "markdown",
   "id": "30c4d520",
   "metadata": {},
   "source": [
    "### f) What is the correlation between the store branches' mean weekly sales and the mean unemployment?"
   ]
  },
  {
   "cell_type": "code",
   "execution_count": 56,
   "id": "9c5a2f42",
   "metadata": {},
   "outputs": [
    {
     "name": "stderr",
     "output_type": "stream",
     "text": [
      "<ipython-input-56-22c771a4d5a8>:3: FutureWarning: Indexing with multiple keys (implicitly converted to a tuple of keys) will be deprecated, use a list instead.\n",
      "  msales_vs_munem = df_2.groupby('Store')['Weekly_Sales', 'Unemployment'].mean()\n"
     ]
    },
    {
     "data": {
      "text/html": [
       "<div>\n",
       "<style scoped>\n",
       "    .dataframe tbody tr th:only-of-type {\n",
       "        vertical-align: middle;\n",
       "    }\n",
       "\n",
       "    .dataframe tbody tr th {\n",
       "        vertical-align: top;\n",
       "    }\n",
       "\n",
       "    .dataframe thead th {\n",
       "        text-align: right;\n",
       "    }\n",
       "</style>\n",
       "<table border=\"1\" class=\"dataframe\">\n",
       "  <thead>\n",
       "    <tr style=\"text-align: right;\">\n",
       "      <th></th>\n",
       "      <th>Weekly_Sales</th>\n",
       "      <th>Unemployment</th>\n",
       "    </tr>\n",
       "    <tr>\n",
       "      <th>Store</th>\n",
       "      <th></th>\n",
       "      <th></th>\n",
       "    </tr>\n",
       "  </thead>\n",
       "  <tbody>\n",
       "    <tr>\n",
       "      <th>41</th>\n",
       "      <td>1.268125e+06</td>\n",
       "      <td>6.973378</td>\n",
       "    </tr>\n",
       "    <tr>\n",
       "      <th>42</th>\n",
       "      <td>5.564039e+05</td>\n",
       "      <td>8.362965</td>\n",
       "    </tr>\n",
       "    <tr>\n",
       "      <th>43</th>\n",
       "      <td>6.333247e+05</td>\n",
       "      <td>9.934804</td>\n",
       "    </tr>\n",
       "    <tr>\n",
       "      <th>44</th>\n",
       "      <td>3.027489e+05</td>\n",
       "      <td>6.735622</td>\n",
       "    </tr>\n",
       "    <tr>\n",
       "      <th>45</th>\n",
       "      <td>7.859814e+05</td>\n",
       "      <td>8.648748</td>\n",
       "    </tr>\n",
       "  </tbody>\n",
       "</table>\n",
       "</div>"
      ],
      "text/plain": [
       "       Weekly_Sales  Unemployment\n",
       "Store                            \n",
       "41     1.268125e+06      6.973378\n",
       "42     5.564039e+05      8.362965\n",
       "43     6.333247e+05      9.934804\n",
       "44     3.027489e+05      6.735622\n",
       "45     7.859814e+05      8.648748"
      ]
     },
     "execution_count": 56,
     "metadata": {},
     "output_type": "execute_result"
    }
   ],
   "source": [
    "# Creating a dataset that consist of the store branch number, the mean weekly sales, and the mean unemployment rate\n",
    "\n",
    "msales_vs_munem = df_2.groupby('Store')['Weekly_Sales', 'Unemployment'].mean()\n",
    "msales_vs_munem.tail()"
   ]
  },
  {
   "cell_type": "code",
   "execution_count": 22,
   "id": "f995e713",
   "metadata": {},
   "outputs": [
    {
     "data": {
      "image/png": "[encoded data removed]",
      "text/plain": [
       "<Figure size 720x360 with 1 Axes>"
      ]
     },
     "metadata": {
      "needs_background": "light"
     },
     "output_type": "display_data"
    }
   ],
   "source": [
    "# Creating a scatterplot\n",
    "\n",
    "munem = msales_vs_munem['Unemployment']\n",
    "msales = msales_vs_munem['Weekly_Sales']\n",
    "\n",
    "fig = plt.figure(figsize = (10,5)) \n",
    "plt.scatter(munem, msales, c= '#0072ce' )\n",
    "\n",
    "z = np.polyfit(munem, msales, 1)\n",
    "p = np.poly1d(z)\n",
    "plt.plot(munem, p(munem),\"g\")\n",
    "\n",
    "plt.xlabel(\"Mean Unemployment\")\n",
    "plt.ylabel(\"Mean Weekly Sales (in mln. USD)\")\n",
    "plt.title(\"Correlation Between Mean Weekly Sales and Mean Unemployment\")\n",
    "plt.show()"
   ]
  },
  {
   "cell_type": "code",
   "execution_count": 23,
   "id": "d1485ee3",
   "metadata": {},
   "outputs": [
    {
     "data": {
      "text/plain": [
       "(-0.11228079769921515, 0.46274512845722804)"
      ]
     },
     "execution_count": 23,
     "metadata": {},
     "output_type": "execute_result"
    }
   ],
   "source": [
    "#Determining the Pearson correlation coefficient\n",
    "\n",
    "stats.pearsonr(munem, msales)"
   ]
  },
  {
   "cell_type": "markdown",
   "id": "4ff8261e",
   "metadata": {},
   "source": [
    "**There is a negligible relationship between the store branches' mean weekly sales and the mean unemployment rate.**"
   ]
  },
  {
   "cell_type": "markdown",
   "id": "5cf7df42",
   "metadata": {},
   "source": [
    "### g) What is the distribution of the total sales?"
   ]
  },
  {
   "cell_type": "code",
   "execution_count": 24,
   "id": "f57d32b0",
   "metadata": {
    "scrolled": true
   },
   "outputs": [
    {
     "data": {
      "text/plain": [
       "<AxesSubplot:xlabel='Total_Sales (in mln. USD)', ylabel='Count'>"
      ]
     },
     "execution_count": 24,
     "metadata": {},
     "output_type": "execute_result"
    },
    {
     "data": {
      "image/png": "[encoded data removed]",
      "text/plain": [
       "<Figure size 432x288 with 1 Axes>"
      ]
     },
     "metadata": {
      "needs_background": "light"
     },
     "output_type": "display_data"
    }
   ],
   "source": [
    "sns.histplot(sales_per_branch['Total_Sales (in mln. USD)'], bins=4, kde=True)"
   ]
  },
  {
   "cell_type": "markdown",
   "id": "9ef6f5cf",
   "metadata": {},
   "source": [
    "**The distribution of the total sales is positively skewed with most of the store branches earn between 37 to 103 million USD.**"
   ]
  },
  {
   "cell_type": "markdown",
   "id": "725e2658",
   "metadata": {},
   "source": [
    "### h) What is the distribution of the mean temperatures of the locations where the stores are built?"
   ]
  },
  {
   "cell_type": "code",
   "execution_count": 25,
   "id": "b5084a04",
   "metadata": {},
   "outputs": [
    {
     "data": {
      "text/html": [
       "<div>\n",
       "<style scoped>\n",
       "    .dataframe tbody tr th:only-of-type {\n",
       "        vertical-align: middle;\n",
       "    }\n",
       "\n",
       "    .dataframe tbody tr th {\n",
       "        vertical-align: top;\n",
       "    }\n",
       "\n",
       "    .dataframe thead th {\n",
       "        text-align: right;\n",
       "    }\n",
       "</style>\n",
       "<table border=\"1\" class=\"dataframe\">\n",
       "  <thead>\n",
       "    <tr style=\"text-align: right;\">\n",
       "      <th></th>\n",
       "      <th>Store</th>\n",
       "      <th>Total_Sales (in mln. USD)</th>\n",
       "      <th>Mean Temperature</th>\n",
       "    </tr>\n",
       "  </thead>\n",
       "  <tbody>\n",
       "    <tr>\n",
       "      <th>32</th>\n",
       "      <td>33</td>\n",
       "      <td>37.160222</td>\n",
       "      <td>76.728182</td>\n",
       "    </tr>\n",
       "    <tr>\n",
       "      <th>10</th>\n",
       "      <td>11</td>\n",
       "      <td>193.962787</td>\n",
       "      <td>72.480769</td>\n",
       "    </tr>\n",
       "    <tr>\n",
       "      <th>41</th>\n",
       "      <td>42</td>\n",
       "      <td>79.565752</td>\n",
       "      <td>72.241189</td>\n",
       "    </tr>\n",
       "    <tr>\n",
       "      <th>9</th>\n",
       "      <td>10</td>\n",
       "      <td>271.617714</td>\n",
       "      <td>72.241189</td>\n",
       "    </tr>\n",
       "    <tr>\n",
       "      <th>2</th>\n",
       "      <td>3</td>\n",
       "      <td>57.586735</td>\n",
       "      <td>71.434196</td>\n",
       "    </tr>\n",
       "    <tr>\n",
       "      <th>35</th>\n",
       "      <td>36</td>\n",
       "      <td>53.412215</td>\n",
       "      <td>71.160350</td>\n",
       "    </tr>\n",
       "    <tr>\n",
       "      <th>36</th>\n",
       "      <td>37</td>\n",
       "      <td>74.202740</td>\n",
       "      <td>71.160350</td>\n",
       "    </tr>\n",
       "    <tr>\n",
       "      <th>38</th>\n",
       "      <td>39</td>\n",
       "      <td>207.445542</td>\n",
       "      <td>70.597343</td>\n",
       "    </tr>\n",
       "    <tr>\n",
       "      <th>37</th>\n",
       "      <td>38</td>\n",
       "      <td>55.159626</td>\n",
       "      <td>70.262797</td>\n",
       "    </tr>\n",
       "    <tr>\n",
       "      <th>27</th>\n",
       "      <td>28</td>\n",
       "      <td>189.263681</td>\n",
       "      <td>70.262797</td>\n",
       "    </tr>\n",
       "    <tr>\n",
       "      <th>11</th>\n",
       "      <td>12</td>\n",
       "      <td>144.287230</td>\n",
       "      <td>70.262797</td>\n",
       "    </tr>\n",
       "    <tr>\n",
       "      <th>5</th>\n",
       "      <td>6</td>\n",
       "      <td>223.756131</td>\n",
       "      <td>69.700000</td>\n",
       "    </tr>\n",
       "    <tr>\n",
       "      <th>4</th>\n",
       "      <td>5</td>\n",
       "      <td>45.475689</td>\n",
       "      <td>69.410140</td>\n",
       "    </tr>\n",
       "    <tr>\n",
       "      <th>42</th>\n",
       "      <td>43</td>\n",
       "      <td>90.565435</td>\n",
       "      <td>68.877692</td>\n",
       "    </tr>\n",
       "    <tr>\n",
       "      <th>20</th>\n",
       "      <td>21</td>\n",
       "      <td>108.117879</td>\n",
       "      <td>68.847622</td>\n",
       "    </tr>\n",
       "    <tr>\n",
       "      <th>29</th>\n",
       "      <td>30</td>\n",
       "      <td>62.716885</td>\n",
       "      <td>68.847622</td>\n",
       "    </tr>\n",
       "    <tr>\n",
       "      <th>30</th>\n",
       "      <td>31</td>\n",
       "      <td>199.613905</td>\n",
       "      <td>68.847622</td>\n",
       "    </tr>\n",
       "    <tr>\n",
       "      <th>0</th>\n",
       "      <td>1</td>\n",
       "      <td>222.402809</td>\n",
       "      <td>68.306783</td>\n",
       "    </tr>\n",
       "    <tr>\n",
       "      <th>1</th>\n",
       "      <td>2</td>\n",
       "      <td>275.382441</td>\n",
       "      <td>68.216364</td>\n",
       "    </tr>\n",
       "    <tr>\n",
       "      <th>8</th>\n",
       "      <td>9</td>\n",
       "      <td>77.789219</td>\n",
       "      <td>67.775175</td>\n",
       "    </tr>\n",
       "    <tr>\n",
       "      <th>7</th>\n",
       "      <td>8</td>\n",
       "      <td>129.951181</td>\n",
       "      <td>62.513986</td>\n",
       "    </tr>\n",
       "    <tr>\n",
       "      <th>3</th>\n",
       "      <td>4</td>\n",
       "      <td>299.543953</td>\n",
       "      <td>62.253357</td>\n",
       "    </tr>\n",
       "    <tr>\n",
       "      <th>33</th>\n",
       "      <td>34</td>\n",
       "      <td>138.249763</td>\n",
       "      <td>58.495874</td>\n",
       "    </tr>\n",
       "    <tr>\n",
       "      <th>44</th>\n",
       "      <td>45</td>\n",
       "      <td>112.395341</td>\n",
       "      <td>57.790979</td>\n",
       "    </tr>\n",
       "    <tr>\n",
       "      <th>13</th>\n",
       "      <td>14</td>\n",
       "      <td>288.999911</td>\n",
       "      <td>57.790979</td>\n",
       "    </tr>\n",
       "    <tr>\n",
       "      <th>34</th>\n",
       "      <td>35</td>\n",
       "      <td>131.520672</td>\n",
       "      <td>57.311119</td>\n",
       "    </tr>\n",
       "    <tr>\n",
       "      <th>26</th>\n",
       "      <td>27</td>\n",
       "      <td>253.855917</td>\n",
       "      <td>57.311119</td>\n",
       "    </tr>\n",
       "    <tr>\n",
       "      <th>19</th>\n",
       "      <td>20</td>\n",
       "      <td>301.397792</td>\n",
       "      <td>55.451399</td>\n",
       "    </tr>\n",
       "    <tr>\n",
       "      <th>28</th>\n",
       "      <td>29</td>\n",
       "      <td>77.141554</td>\n",
       "      <td>54.897133</td>\n",
       "    </tr>\n",
       "    <tr>\n",
       "      <th>21</th>\n",
       "      <td>22</td>\n",
       "      <td>147.075649</td>\n",
       "      <td>54.897133</td>\n",
       "    </tr>\n",
       "    <tr>\n",
       "      <th>23</th>\n",
       "      <td>24</td>\n",
       "      <td>194.016021</td>\n",
       "      <td>54.030000</td>\n",
       "    </tr>\n",
       "    <tr>\n",
       "      <th>43</th>\n",
       "      <td>44</td>\n",
       "      <td>43.293088</td>\n",
       "      <td>53.697133</td>\n",
       "    </tr>\n",
       "    <tr>\n",
       "      <th>12</th>\n",
       "      <td>13</td>\n",
       "      <td>286.517704</td>\n",
       "      <td>53.697133</td>\n",
       "    </tr>\n",
       "    <tr>\n",
       "      <th>17</th>\n",
       "      <td>18</td>\n",
       "      <td>155.114734</td>\n",
       "      <td>53.371259</td>\n",
       "    </tr>\n",
       "    <tr>\n",
       "      <th>31</th>\n",
       "      <td>32</td>\n",
       "      <td>166.819246</td>\n",
       "      <td>52.747552</td>\n",
       "    </tr>\n",
       "    <tr>\n",
       "      <th>18</th>\n",
       "      <td>19</td>\n",
       "      <td>206.634862</td>\n",
       "      <td>52.295035</td>\n",
       "    </tr>\n",
       "    <tr>\n",
       "      <th>24</th>\n",
       "      <td>25</td>\n",
       "      <td>101.061179</td>\n",
       "      <td>52.138392</td>\n",
       "    </tr>\n",
       "    <tr>\n",
       "      <th>14</th>\n",
       "      <td>15</td>\n",
       "      <td>89.133684</td>\n",
       "      <td>51.833846</td>\n",
       "    </tr>\n",
       "    <tr>\n",
       "      <th>22</th>\n",
       "      <td>23</td>\n",
       "      <td>198.750618</td>\n",
       "      <td>48.805105</td>\n",
       "    </tr>\n",
       "    <tr>\n",
       "      <th>40</th>\n",
       "      <td>41</td>\n",
       "      <td>181.341935</td>\n",
       "      <td>48.410350</td>\n",
       "    </tr>\n",
       "    <tr>\n",
       "      <th>39</th>\n",
       "      <td>40</td>\n",
       "      <td>137.870310</td>\n",
       "      <td>47.674545</td>\n",
       "    </tr>\n",
       "    <tr>\n",
       "      <th>16</th>\n",
       "      <td>17</td>\n",
       "      <td>127.782139</td>\n",
       "      <td>46.387203</td>\n",
       "    </tr>\n",
       "    <tr>\n",
       "      <th>15</th>\n",
       "      <td>16</td>\n",
       "      <td>74.252425</td>\n",
       "      <td>45.030070</td>\n",
       "    </tr>\n",
       "    <tr>\n",
       "      <th>25</th>\n",
       "      <td>26</td>\n",
       "      <td>143.416394</td>\n",
       "      <td>43.658252</td>\n",
       "    </tr>\n",
       "    <tr>\n",
       "      <th>6</th>\n",
       "      <td>7</td>\n",
       "      <td>81.598275</td>\n",
       "      <td>39.720280</td>\n",
       "    </tr>\n",
       "  </tbody>\n",
       "</table>\n",
       "</div>"
      ],
      "text/plain": [
       "    Store  Total_Sales (in mln. USD)  Mean Temperature\n",
       "32     33                  37.160222         76.728182\n",
       "10     11                 193.962787         72.480769\n",
       "41     42                  79.565752         72.241189\n",
       "9      10                 271.617714         72.241189\n",
       "2       3                  57.586735         71.434196\n",
       "35     36                  53.412215         71.160350\n",
       "36     37                  74.202740         71.160350\n",
       "38     39                 207.445542         70.597343\n",
       "37     38                  55.159626         70.262797\n",
       "27     28                 189.263681         70.262797\n",
       "11     12                 144.287230         70.262797\n",
       "5       6                 223.756131         69.700000\n",
       "4       5                  45.475689         69.410140\n",
       "42     43                  90.565435         68.877692\n",
       "20     21                 108.117879         68.847622\n",
       "29     30                  62.716885         68.847622\n",
       "30     31                 199.613905         68.847622\n",
       "0       1                 222.402809         68.306783\n",
       "1       2                 275.382441         68.216364\n",
       "8       9                  77.789219         67.775175\n",
       "7       8                 129.951181         62.513986\n",
       "3       4                 299.543953         62.253357\n",
       "33     34                 138.249763         58.495874\n",
       "44     45                 112.395341         57.790979\n",
       "13     14                 288.999911         57.790979\n",
       "34     35                 131.520672         57.311119\n",
       "26     27                 253.855917         57.311119\n",
       "19     20                 301.397792         55.451399\n",
       "28     29                  77.141554         54.897133\n",
       "21     22                 147.075649         54.897133\n",
       "23     24                 194.016021         54.030000\n",
       "43     44                  43.293088         53.697133\n",
       "12     13                 286.517704         53.697133\n",
       "17     18                 155.114734         53.371259\n",
       "31     32                 166.819246         52.747552\n",
       "18     19                 206.634862         52.295035\n",
       "24     25                 101.061179         52.138392\n",
       "14     15                  89.133684         51.833846\n",
       "22     23                 198.750618         48.805105\n",
       "40     41                 181.341935         48.410350\n",
       "39     40                 137.870310         47.674545\n",
       "16     17                 127.782139         46.387203\n",
       "15     16                  74.252425         45.030070\n",
       "25     26                 143.416394         43.658252\n",
       "6       7                  81.598275         39.720280"
      ]
     },
     "execution_count": 25,
     "metadata": {},
     "output_type": "execute_result"
    }
   ],
   "source": [
    "sales_vs_temp.sort_values(by='Mean Temperature', ascending=False)"
   ]
  },
  {
   "cell_type": "code",
   "execution_count": 26,
   "id": "aefa7894",
   "metadata": {},
   "outputs": [
    {
     "data": {
      "text/plain": [
       "<AxesSubplot:xlabel='Mean Temperature', ylabel='Count'>"
      ]
     },
     "execution_count": 26,
     "metadata": {},
     "output_type": "execute_result"
    },
    {
     "data": {
      "image/png": "[encoded data removed]",
      "text/plain": [
       "<Figure size 432x288 with 1 Axes>"
      ]
     },
     "metadata": {
      "needs_background": "light"
     },
     "output_type": "display_data"
    }
   ],
   "source": [
    "sns.histplot(sales_vs_temp['Mean Temperature'], bins=7, kde=True)"
   ]
  },
  {
   "cell_type": "markdown",
   "id": "4c1b21ef",
   "metadata": {},
   "source": [
    "**The distribution of the mean temperatures is bimodal distribution. The first peak comes from a group of store branches located at areas where temperatures are between 50.58 and 55.56. The second comes from a group of store branches located at areas where temperatures are between 66.16 and 71.44.**"
   ]
  },
  {
   "cell_type": "markdown",
   "id": "ae631d24",
   "metadata": {},
   "source": [
    "### i) What is the distribution of the mean unemployment rate of the locations where the stores are built?"
   ]
  },
  {
   "cell_type": "code",
   "execution_count": 55,
   "id": "c8a34c15",
   "metadata": {},
   "outputs": [
    {
     "data": {
      "text/plain": [
       "<AxesSubplot:xlabel='Unemployment', ylabel='Count'>"
      ]
     },
     "execution_count": 55,
     "metadata": {},
     "output_type": "execute_result"
    },
    {
     "data": {
      "image/png": "[encoded data removed]",
      "text/plain": [
       "<Figure size 432x288 with 1 Axes>"
      ]
     },
     "metadata": {
      "needs_background": "light"
     },
     "output_type": "display_data"
    }
   ],
   "source": [
    "sns.histplot(msales_vs_munem['Unemployment'], bins=5, kde=True)"
   ]
  },
  {
   "cell_type": "markdown",
   "id": "2a8d773e",
   "metadata": {},
   "source": [
    "**The graph shows a right-skewed distribution of the mean unemployment rate with most of the store branches located in places where the mean unemployment rate is between 6.4 and 8.1 percent.**"
   ]
  },
  {
   "cell_type": "code",
   "execution_count": null,
   "id": "31021e20",
   "metadata": {},
   "outputs": [],
   "source": []
  }
 ],
 "metadata": {
  "kernelspec": {
   "display_name": "Python 3",
   "language": "python",
   "name": "python3"
  },
  "language_info": {
   "codemirror_mode": {
    "name": "ipython",
    "version": 3
   },
   "file_extension": ".py",
   "mimetype": "text/x-python",
   "name": "python",
   "nbconvert_exporter": "python",
   "pygments_lexer": "ipython3",
   "version": "3.8.8"
  }
 },
 "nbformat": 4,
 "nbformat_minor": 5
}
