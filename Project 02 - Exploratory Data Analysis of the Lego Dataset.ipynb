{
 "cells": [
  {
   "cell_type": "markdown",
   "id": "e2b3912b",
   "metadata": {},
   "source": [
    "# Exploratory Data Analysis of the Lego Dataset"
   ]
  },
  {
   "cell_type": "markdown",
   "id": "b3507e37",
   "metadata": {},
   "source": [
    "## 1. Importing necessary libraries"
   ]
  },
  {
   "cell_type": "code",
   "execution_count": 1,
   "id": "6dc3665d",
   "metadata": {},
   "outputs": [],
   "source": [
    "import pandas as pd\n",
    "import numpy as np\n",
    "import matplotlib as mpl\n",
    "import matplotlib.pyplot as plt\n",
    "import seaborn as sns\n",
    "%matplotlib inline"
   ]
  },
  {
   "cell_type": "markdown",
   "id": "156516f0",
   "metadata": {},
   "source": [
    "## 2. Load the 'themes.csv' file"
   ]
  },
  {
   "cell_type": "code",
   "execution_count": 2,
   "id": "70d95075",
   "metadata": {},
   "outputs": [
    {
     "data": {
      "text/html": [
       "<div>\n",
       "<style scoped>\n",
       "    .dataframe tbody tr th:only-of-type {\n",
       "        vertical-align: middle;\n",
       "    }\n",
       "\n",
       "    .dataframe tbody tr th {\n",
       "        vertical-align: top;\n",
       "    }\n",
       "\n",
       "    .dataframe thead th {\n",
       "        text-align: right;\n",
       "    }\n",
       "</style>\n",
       "<table border=\"1\" class=\"dataframe\">\n",
       "  <thead>\n",
       "    <tr style=\"text-align: right;\">\n",
       "      <th></th>\n",
       "      <th>id</th>\n",
       "      <th>name</th>\n",
       "      <th>parent_id</th>\n",
       "    </tr>\n",
       "  </thead>\n",
       "  <tbody>\n",
       "    <tr>\n",
       "      <th>0</th>\n",
       "      <td>1</td>\n",
       "      <td>Technic</td>\n",
       "      <td>NaN</td>\n",
       "    </tr>\n",
       "    <tr>\n",
       "      <th>1</th>\n",
       "      <td>2</td>\n",
       "      <td>Arctic Technic</td>\n",
       "      <td>1.0</td>\n",
       "    </tr>\n",
       "    <tr>\n",
       "      <th>2</th>\n",
       "      <td>3</td>\n",
       "      <td>Competition</td>\n",
       "      <td>1.0</td>\n",
       "    </tr>\n",
       "    <tr>\n",
       "      <th>3</th>\n",
       "      <td>4</td>\n",
       "      <td>Expert Builder</td>\n",
       "      <td>1.0</td>\n",
       "    </tr>\n",
       "    <tr>\n",
       "      <th>4</th>\n",
       "      <td>5</td>\n",
       "      <td>Model</td>\n",
       "      <td>1.0</td>\n",
       "    </tr>\n",
       "    <tr>\n",
       "      <th>...</th>\n",
       "      <td>...</td>\n",
       "      <td>...</td>\n",
       "      <td>...</td>\n",
       "    </tr>\n",
       "    <tr>\n",
       "      <th>650</th>\n",
       "      <td>685</td>\n",
       "      <td>Galidor</td>\n",
       "      <td>NaN</td>\n",
       "    </tr>\n",
       "    <tr>\n",
       "      <th>651</th>\n",
       "      <td>686</td>\n",
       "      <td>Chinese Traditional Festivals</td>\n",
       "      <td>NaN</td>\n",
       "    </tr>\n",
       "    <tr>\n",
       "      <th>652</th>\n",
       "      <td>687</td>\n",
       "      <td>Frozen II</td>\n",
       "      <td>608.0</td>\n",
       "    </tr>\n",
       "    <tr>\n",
       "      <th>653</th>\n",
       "      <td>688</td>\n",
       "      <td>DOTS</td>\n",
       "      <td>NaN</td>\n",
       "    </tr>\n",
       "    <tr>\n",
       "      <th>654</th>\n",
       "      <td>689</td>\n",
       "      <td>Minions</td>\n",
       "      <td>NaN</td>\n",
       "    </tr>\n",
       "  </tbody>\n",
       "</table>\n",
       "<p>655 rows × 3 columns</p>\n",
       "</div>"
      ],
      "text/plain": [
       "      id                           name  parent_id\n",
       "0      1                        Technic        NaN\n",
       "1      2                 Arctic Technic        1.0\n",
       "2      3                    Competition        1.0\n",
       "3      4                 Expert Builder        1.0\n",
       "4      5                          Model        1.0\n",
       "..   ...                            ...        ...\n",
       "650  685                        Galidor        NaN\n",
       "651  686  Chinese Traditional Festivals        NaN\n",
       "652  687                      Frozen II      608.0\n",
       "653  688                           DOTS        NaN\n",
       "654  689                        Minions        NaN\n",
       "\n",
       "[655 rows x 3 columns]"
      ]
     },
     "execution_count": 2,
     "metadata": {},
     "output_type": "execute_result"
    }
   ],
   "source": [
    "df_themes = pd.read_csv('files/themes.csv')\n",
    "df_themes"
   ]
  },
  {
   "cell_type": "markdown",
   "id": "810e3cab",
   "metadata": {},
   "source": [
    "**Observation:**\n",
    "\n",
    "**There are 655 Lego themes.**"
   ]
  },
  {
   "cell_type": "markdown",
   "id": "27753201",
   "metadata": {},
   "source": [
    "## 3. Load the 'sets.csv' file"
   ]
  },
  {
   "cell_type": "code",
   "execution_count": 3,
   "id": "335aceb4",
   "metadata": {},
   "outputs": [
    {
     "data": {
      "text/html": [
       "<div>\n",
       "<style scoped>\n",
       "    .dataframe tbody tr th:only-of-type {\n",
       "        vertical-align: middle;\n",
       "    }\n",
       "\n",
       "    .dataframe tbody tr th {\n",
       "        vertical-align: top;\n",
       "    }\n",
       "\n",
       "    .dataframe thead th {\n",
       "        text-align: right;\n",
       "    }\n",
       "</style>\n",
       "<table border=\"1\" class=\"dataframe\">\n",
       "  <thead>\n",
       "    <tr style=\"text-align: right;\">\n",
       "      <th></th>\n",
       "      <th>set_num</th>\n",
       "      <th>name</th>\n",
       "      <th>year</th>\n",
       "      <th>theme_id</th>\n",
       "      <th>num_parts</th>\n",
       "    </tr>\n",
       "  </thead>\n",
       "  <tbody>\n",
       "    <tr>\n",
       "      <th>0</th>\n",
       "      <td>001-1</td>\n",
       "      <td>Gears</td>\n",
       "      <td>1965</td>\n",
       "      <td>1</td>\n",
       "      <td>43</td>\n",
       "    </tr>\n",
       "    <tr>\n",
       "      <th>1</th>\n",
       "      <td>0011-2</td>\n",
       "      <td>Town Mini-Figures</td>\n",
       "      <td>1978</td>\n",
       "      <td>84</td>\n",
       "      <td>12</td>\n",
       "    </tr>\n",
       "    <tr>\n",
       "      <th>2</th>\n",
       "      <td>0011-3</td>\n",
       "      <td>Castle 2 for 1 Bonus Offer</td>\n",
       "      <td>1987</td>\n",
       "      <td>199</td>\n",
       "      <td>0</td>\n",
       "    </tr>\n",
       "    <tr>\n",
       "      <th>3</th>\n",
       "      <td>0012-1</td>\n",
       "      <td>Space Mini-Figures</td>\n",
       "      <td>1979</td>\n",
       "      <td>143</td>\n",
       "      <td>12</td>\n",
       "    </tr>\n",
       "    <tr>\n",
       "      <th>4</th>\n",
       "      <td>0013-1</td>\n",
       "      <td>Space Mini-Figures</td>\n",
       "      <td>1979</td>\n",
       "      <td>143</td>\n",
       "      <td>12</td>\n",
       "    </tr>\n",
       "    <tr>\n",
       "      <th>...</th>\n",
       "      <td>...</td>\n",
       "      <td>...</td>\n",
       "      <td>...</td>\n",
       "      <td>...</td>\n",
       "      <td>...</td>\n",
       "    </tr>\n",
       "    <tr>\n",
       "      <th>15661</th>\n",
       "      <td>wwgp1-1</td>\n",
       "      <td>Wild West Limited Edition Gift Pack</td>\n",
       "      <td>1996</td>\n",
       "      <td>476</td>\n",
       "      <td>0</td>\n",
       "    </tr>\n",
       "    <tr>\n",
       "      <th>15662</th>\n",
       "      <td>XMASTREE-1</td>\n",
       "      <td>Christmas Tree</td>\n",
       "      <td>2019</td>\n",
       "      <td>410</td>\n",
       "      <td>26</td>\n",
       "    </tr>\n",
       "    <tr>\n",
       "      <th>15663</th>\n",
       "      <td>XWING-1</td>\n",
       "      <td>Mini X-Wing Fighter</td>\n",
       "      <td>2019</td>\n",
       "      <td>158</td>\n",
       "      <td>60</td>\n",
       "    </tr>\n",
       "    <tr>\n",
       "      <th>15664</th>\n",
       "      <td>XWING-2</td>\n",
       "      <td>X-Wing Trench Run</td>\n",
       "      <td>2019</td>\n",
       "      <td>158</td>\n",
       "      <td>52</td>\n",
       "    </tr>\n",
       "    <tr>\n",
       "      <th>15665</th>\n",
       "      <td>YODACHRON-1</td>\n",
       "      <td>Yoda Chronicles Promotional Set</td>\n",
       "      <td>2013</td>\n",
       "      <td>158</td>\n",
       "      <td>413</td>\n",
       "    </tr>\n",
       "  </tbody>\n",
       "</table>\n",
       "<p>15666 rows × 5 columns</p>\n",
       "</div>"
      ],
      "text/plain": [
       "           set_num                                 name  year  theme_id  \\\n",
       "0            001-1                                Gears  1965         1   \n",
       "1           0011-2                    Town Mini-Figures  1978        84   \n",
       "2           0011-3           Castle 2 for 1 Bonus Offer  1987       199   \n",
       "3           0012-1                   Space Mini-Figures  1979       143   \n",
       "4           0013-1                   Space Mini-Figures  1979       143   \n",
       "...            ...                                  ...   ...       ...   \n",
       "15661      wwgp1-1  Wild West Limited Edition Gift Pack  1996       476   \n",
       "15662   XMASTREE-1                       Christmas Tree  2019       410   \n",
       "15663      XWING-1                  Mini X-Wing Fighter  2019       158   \n",
       "15664      XWING-2                    X-Wing Trench Run  2019       158   \n",
       "15665  YODACHRON-1      Yoda Chronicles Promotional Set  2013       158   \n",
       "\n",
       "       num_parts  \n",
       "0             43  \n",
       "1             12  \n",
       "2              0  \n",
       "3             12  \n",
       "4             12  \n",
       "...          ...  \n",
       "15661          0  \n",
       "15662         26  \n",
       "15663         60  \n",
       "15664         52  \n",
       "15665        413  \n",
       "\n",
       "[15666 rows x 5 columns]"
      ]
     },
     "execution_count": 3,
     "metadata": {},
     "output_type": "execute_result"
    }
   ],
   "source": [
    "df_sets = pd.read_csv('files/sets.csv')\n",
    "df_sets"
   ]
  },
  {
   "cell_type": "markdown",
   "id": "1de749f8",
   "metadata": {},
   "source": [
    "## 4. Change the column name of the theme dataset from 'id' to 'theme_id'."
   ]
  },
  {
   "cell_type": "code",
   "execution_count": 4,
   "id": "cca161d9",
   "metadata": {},
   "outputs": [
    {
     "data": {
      "text/html": [
       "<div>\n",
       "<style scoped>\n",
       "    .dataframe tbody tr th:only-of-type {\n",
       "        vertical-align: middle;\n",
       "    }\n",
       "\n",
       "    .dataframe tbody tr th {\n",
       "        vertical-align: top;\n",
       "    }\n",
       "\n",
       "    .dataframe thead th {\n",
       "        text-align: right;\n",
       "    }\n",
       "</style>\n",
       "<table border=\"1\" class=\"dataframe\">\n",
       "  <thead>\n",
       "    <tr style=\"text-align: right;\">\n",
       "      <th></th>\n",
       "      <th>theme_id</th>\n",
       "      <th>name</th>\n",
       "      <th>parent_id</th>\n",
       "    </tr>\n",
       "  </thead>\n",
       "  <tbody>\n",
       "    <tr>\n",
       "      <th>0</th>\n",
       "      <td>1</td>\n",
       "      <td>Technic</td>\n",
       "      <td>NaN</td>\n",
       "    </tr>\n",
       "    <tr>\n",
       "      <th>1</th>\n",
       "      <td>2</td>\n",
       "      <td>Arctic Technic</td>\n",
       "      <td>1.0</td>\n",
       "    </tr>\n",
       "    <tr>\n",
       "      <th>2</th>\n",
       "      <td>3</td>\n",
       "      <td>Competition</td>\n",
       "      <td>1.0</td>\n",
       "    </tr>\n",
       "    <tr>\n",
       "      <th>3</th>\n",
       "      <td>4</td>\n",
       "      <td>Expert Builder</td>\n",
       "      <td>1.0</td>\n",
       "    </tr>\n",
       "    <tr>\n",
       "      <th>4</th>\n",
       "      <td>5</td>\n",
       "      <td>Model</td>\n",
       "      <td>1.0</td>\n",
       "    </tr>\n",
       "    <tr>\n",
       "      <th>...</th>\n",
       "      <td>...</td>\n",
       "      <td>...</td>\n",
       "      <td>...</td>\n",
       "    </tr>\n",
       "    <tr>\n",
       "      <th>650</th>\n",
       "      <td>685</td>\n",
       "      <td>Galidor</td>\n",
       "      <td>NaN</td>\n",
       "    </tr>\n",
       "    <tr>\n",
       "      <th>651</th>\n",
       "      <td>686</td>\n",
       "      <td>Chinese Traditional Festivals</td>\n",
       "      <td>NaN</td>\n",
       "    </tr>\n",
       "    <tr>\n",
       "      <th>652</th>\n",
       "      <td>687</td>\n",
       "      <td>Frozen II</td>\n",
       "      <td>608.0</td>\n",
       "    </tr>\n",
       "    <tr>\n",
       "      <th>653</th>\n",
       "      <td>688</td>\n",
       "      <td>DOTS</td>\n",
       "      <td>NaN</td>\n",
       "    </tr>\n",
       "    <tr>\n",
       "      <th>654</th>\n",
       "      <td>689</td>\n",
       "      <td>Minions</td>\n",
       "      <td>NaN</td>\n",
       "    </tr>\n",
       "  </tbody>\n",
       "</table>\n",
       "<p>655 rows × 3 columns</p>\n",
       "</div>"
      ],
      "text/plain": [
       "     theme_id                           name  parent_id\n",
       "0           1                        Technic        NaN\n",
       "1           2                 Arctic Technic        1.0\n",
       "2           3                    Competition        1.0\n",
       "3           4                 Expert Builder        1.0\n",
       "4           5                          Model        1.0\n",
       "..        ...                            ...        ...\n",
       "650       685                        Galidor        NaN\n",
       "651       686  Chinese Traditional Festivals        NaN\n",
       "652       687                      Frozen II      608.0\n",
       "653       688                           DOTS        NaN\n",
       "654       689                        Minions        NaN\n",
       "\n",
       "[655 rows x 3 columns]"
      ]
     },
     "execution_count": 4,
     "metadata": {},
     "output_type": "execute_result"
    }
   ],
   "source": [
    "df_themes = df_themes.rename(columns = {'id':'theme_id'})\n",
    "df_themes"
   ]
  },
  {
   "cell_type": "markdown",
   "id": "fa0a647a",
   "metadata": {},
   "source": [
    "## 5. Merge the themes and sets sub-datasets."
   ]
  },
  {
   "cell_type": "code",
   "execution_count": 5,
   "id": "fe68c07c",
   "metadata": {},
   "outputs": [
    {
     "data": {
      "text/html": [
       "<div>\n",
       "<style scoped>\n",
       "    .dataframe tbody tr th:only-of-type {\n",
       "        vertical-align: middle;\n",
       "    }\n",
       "\n",
       "    .dataframe tbody tr th {\n",
       "        vertical-align: top;\n",
       "    }\n",
       "\n",
       "    .dataframe thead th {\n",
       "        text-align: right;\n",
       "    }\n",
       "</style>\n",
       "<table border=\"1\" class=\"dataframe\">\n",
       "  <thead>\n",
       "    <tr style=\"text-align: right;\">\n",
       "      <th></th>\n",
       "      <th>theme_id</th>\n",
       "      <th>name_x</th>\n",
       "      <th>parent_id</th>\n",
       "      <th>set_num</th>\n",
       "      <th>name_y</th>\n",
       "      <th>year</th>\n",
       "      <th>num_parts</th>\n",
       "    </tr>\n",
       "  </thead>\n",
       "  <tbody>\n",
       "    <tr>\n",
       "      <th>0</th>\n",
       "      <td>1</td>\n",
       "      <td>Technic</td>\n",
       "      <td>NaN</td>\n",
       "      <td>001-1</td>\n",
       "      <td>Gears</td>\n",
       "      <td>1965.0</td>\n",
       "      <td>43.0</td>\n",
       "    </tr>\n",
       "    <tr>\n",
       "      <th>1</th>\n",
       "      <td>1</td>\n",
       "      <td>Technic</td>\n",
       "      <td>NaN</td>\n",
       "      <td>002-1</td>\n",
       "      <td>4.5V Samsonite Gears Motor Set</td>\n",
       "      <td>1965.0</td>\n",
       "      <td>3.0</td>\n",
       "    </tr>\n",
       "    <tr>\n",
       "      <th>2</th>\n",
       "      <td>1</td>\n",
       "      <td>Technic</td>\n",
       "      <td>NaN</td>\n",
       "      <td>1030-1</td>\n",
       "      <td>TECHNIC I: Simple Machines Set</td>\n",
       "      <td>1985.0</td>\n",
       "      <td>191.0</td>\n",
       "    </tr>\n",
       "    <tr>\n",
       "      <th>3</th>\n",
       "      <td>1</td>\n",
       "      <td>Technic</td>\n",
       "      <td>NaN</td>\n",
       "      <td>1038-1</td>\n",
       "      <td>ERBIE the Robo-Car</td>\n",
       "      <td>1985.0</td>\n",
       "      <td>120.0</td>\n",
       "    </tr>\n",
       "    <tr>\n",
       "      <th>4</th>\n",
       "      <td>1</td>\n",
       "      <td>Technic</td>\n",
       "      <td>NaN</td>\n",
       "      <td>1039-1</td>\n",
       "      <td>Manual Control Set 1</td>\n",
       "      <td>1986.0</td>\n",
       "      <td>39.0</td>\n",
       "    </tr>\n",
       "    <tr>\n",
       "      <th>...</th>\n",
       "      <td>...</td>\n",
       "      <td>...</td>\n",
       "      <td>...</td>\n",
       "      <td>...</td>\n",
       "      <td>...</td>\n",
       "      <td>...</td>\n",
       "      <td>...</td>\n",
       "    </tr>\n",
       "    <tr>\n",
       "      <th>15737</th>\n",
       "      <td>689</td>\n",
       "      <td>Minions</td>\n",
       "      <td>NaN</td>\n",
       "      <td>75546-1</td>\n",
       "      <td>Minions in Gru’s Lab</td>\n",
       "      <td>2020.0</td>\n",
       "      <td>0.0</td>\n",
       "    </tr>\n",
       "    <tr>\n",
       "      <th>15738</th>\n",
       "      <td>689</td>\n",
       "      <td>Minions</td>\n",
       "      <td>NaN</td>\n",
       "      <td>75547-1</td>\n",
       "      <td>Minion Pilot in Training</td>\n",
       "      <td>2020.0</td>\n",
       "      <td>0.0</td>\n",
       "    </tr>\n",
       "    <tr>\n",
       "      <th>15739</th>\n",
       "      <td>689</td>\n",
       "      <td>Minions</td>\n",
       "      <td>NaN</td>\n",
       "      <td>75549-1</td>\n",
       "      <td>Unstoppable Bike Chase</td>\n",
       "      <td>2020.0</td>\n",
       "      <td>0.0</td>\n",
       "    </tr>\n",
       "    <tr>\n",
       "      <th>15740</th>\n",
       "      <td>689</td>\n",
       "      <td>Minions</td>\n",
       "      <td>NaN</td>\n",
       "      <td>75550-1</td>\n",
       "      <td>Minions Kung Fu Battle</td>\n",
       "      <td>2020.0</td>\n",
       "      <td>0.0</td>\n",
       "    </tr>\n",
       "    <tr>\n",
       "      <th>15741</th>\n",
       "      <td>689</td>\n",
       "      <td>Minions</td>\n",
       "      <td>NaN</td>\n",
       "      <td>75551-1</td>\n",
       "      <td>Brick-Built Minions and Their Lair</td>\n",
       "      <td>2020.0</td>\n",
       "      <td>0.0</td>\n",
       "    </tr>\n",
       "  </tbody>\n",
       "</table>\n",
       "<p>15742 rows × 7 columns</p>\n",
       "</div>"
      ],
      "text/plain": [
       "       theme_id   name_x  parent_id  set_num  \\\n",
       "0             1  Technic        NaN    001-1   \n",
       "1             1  Technic        NaN    002-1   \n",
       "2             1  Technic        NaN   1030-1   \n",
       "3             1  Technic        NaN   1038-1   \n",
       "4             1  Technic        NaN   1039-1   \n",
       "...         ...      ...        ...      ...   \n",
       "15737       689  Minions        NaN  75546-1   \n",
       "15738       689  Minions        NaN  75547-1   \n",
       "15739       689  Minions        NaN  75549-1   \n",
       "15740       689  Minions        NaN  75550-1   \n",
       "15741       689  Minions        NaN  75551-1   \n",
       "\n",
       "                                   name_y    year  num_parts  \n",
       "0                                   Gears  1965.0       43.0  \n",
       "1          4.5V Samsonite Gears Motor Set  1965.0        3.0  \n",
       "2          TECHNIC I: Simple Machines Set  1985.0      191.0  \n",
       "3                      ERBIE the Robo-Car  1985.0      120.0  \n",
       "4                    Manual Control Set 1  1986.0       39.0  \n",
       "...                                   ...     ...        ...  \n",
       "15737                Minions in Gru’s Lab  2020.0        0.0  \n",
       "15738            Minion Pilot in Training  2020.0        0.0  \n",
       "15739              Unstoppable Bike Chase  2020.0        0.0  \n",
       "15740              Minions Kung Fu Battle  2020.0        0.0  \n",
       "15741  Brick-Built Minions and Their Lair  2020.0        0.0  \n",
       "\n",
       "[15742 rows x 7 columns]"
      ]
     },
     "execution_count": 5,
     "metadata": {},
     "output_type": "execute_result"
    }
   ],
   "source": [
    "themes_sets = pd.merge(df_themes, df_sets, on = 'theme_id', how = 'left')\n",
    "themes_sets"
   ]
  },
  {
   "cell_type": "markdown",
   "id": "77c3ab97",
   "metadata": {},
   "source": [
    "## 6. Rename 'name_x' and 'name_y' to 'theme_name' and 'set_name' respectively."
   ]
  },
  {
   "cell_type": "code",
   "execution_count": 6,
   "id": "c2ec068c",
   "metadata": {
    "scrolled": true
   },
   "outputs": [
    {
     "data": {
      "text/html": [
       "<div>\n",
       "<style scoped>\n",
       "    .dataframe tbody tr th:only-of-type {\n",
       "        vertical-align: middle;\n",
       "    }\n",
       "\n",
       "    .dataframe tbody tr th {\n",
       "        vertical-align: top;\n",
       "    }\n",
       "\n",
       "    .dataframe thead th {\n",
       "        text-align: right;\n",
       "    }\n",
       "</style>\n",
       "<table border=\"1\" class=\"dataframe\">\n",
       "  <thead>\n",
       "    <tr style=\"text-align: right;\">\n",
       "      <th></th>\n",
       "      <th>theme_id</th>\n",
       "      <th>theme_name</th>\n",
       "      <th>parent_id</th>\n",
       "      <th>set_num</th>\n",
       "      <th>set_name</th>\n",
       "      <th>year</th>\n",
       "      <th>num_parts</th>\n",
       "    </tr>\n",
       "  </thead>\n",
       "  <tbody>\n",
       "    <tr>\n",
       "      <th>0</th>\n",
       "      <td>1</td>\n",
       "      <td>Technic</td>\n",
       "      <td>NaN</td>\n",
       "      <td>001-1</td>\n",
       "      <td>Gears</td>\n",
       "      <td>1965.0</td>\n",
       "      <td>43.0</td>\n",
       "    </tr>\n",
       "    <tr>\n",
       "      <th>1</th>\n",
       "      <td>1</td>\n",
       "      <td>Technic</td>\n",
       "      <td>NaN</td>\n",
       "      <td>002-1</td>\n",
       "      <td>4.5V Samsonite Gears Motor Set</td>\n",
       "      <td>1965.0</td>\n",
       "      <td>3.0</td>\n",
       "    </tr>\n",
       "    <tr>\n",
       "      <th>2</th>\n",
       "      <td>1</td>\n",
       "      <td>Technic</td>\n",
       "      <td>NaN</td>\n",
       "      <td>1030-1</td>\n",
       "      <td>TECHNIC I: Simple Machines Set</td>\n",
       "      <td>1985.0</td>\n",
       "      <td>191.0</td>\n",
       "    </tr>\n",
       "    <tr>\n",
       "      <th>3</th>\n",
       "      <td>1</td>\n",
       "      <td>Technic</td>\n",
       "      <td>NaN</td>\n",
       "      <td>1038-1</td>\n",
       "      <td>ERBIE the Robo-Car</td>\n",
       "      <td>1985.0</td>\n",
       "      <td>120.0</td>\n",
       "    </tr>\n",
       "    <tr>\n",
       "      <th>4</th>\n",
       "      <td>1</td>\n",
       "      <td>Technic</td>\n",
       "      <td>NaN</td>\n",
       "      <td>1039-1</td>\n",
       "      <td>Manual Control Set 1</td>\n",
       "      <td>1986.0</td>\n",
       "      <td>39.0</td>\n",
       "    </tr>\n",
       "    <tr>\n",
       "      <th>...</th>\n",
       "      <td>...</td>\n",
       "      <td>...</td>\n",
       "      <td>...</td>\n",
       "      <td>...</td>\n",
       "      <td>...</td>\n",
       "      <td>...</td>\n",
       "      <td>...</td>\n",
       "    </tr>\n",
       "    <tr>\n",
       "      <th>15737</th>\n",
       "      <td>689</td>\n",
       "      <td>Minions</td>\n",
       "      <td>NaN</td>\n",
       "      <td>75546-1</td>\n",
       "      <td>Minions in Gru’s Lab</td>\n",
       "      <td>2020.0</td>\n",
       "      <td>0.0</td>\n",
       "    </tr>\n",
       "    <tr>\n",
       "      <th>15738</th>\n",
       "      <td>689</td>\n",
       "      <td>Minions</td>\n",
       "      <td>NaN</td>\n",
       "      <td>75547-1</td>\n",
       "      <td>Minion Pilot in Training</td>\n",
       "      <td>2020.0</td>\n",
       "      <td>0.0</td>\n",
       "    </tr>\n",
       "    <tr>\n",
       "      <th>15739</th>\n",
       "      <td>689</td>\n",
       "      <td>Minions</td>\n",
       "      <td>NaN</td>\n",
       "      <td>75549-1</td>\n",
       "      <td>Unstoppable Bike Chase</td>\n",
       "      <td>2020.0</td>\n",
       "      <td>0.0</td>\n",
       "    </tr>\n",
       "    <tr>\n",
       "      <th>15740</th>\n",
       "      <td>689</td>\n",
       "      <td>Minions</td>\n",
       "      <td>NaN</td>\n",
       "      <td>75550-1</td>\n",
       "      <td>Minions Kung Fu Battle</td>\n",
       "      <td>2020.0</td>\n",
       "      <td>0.0</td>\n",
       "    </tr>\n",
       "    <tr>\n",
       "      <th>15741</th>\n",
       "      <td>689</td>\n",
       "      <td>Minions</td>\n",
       "      <td>NaN</td>\n",
       "      <td>75551-1</td>\n",
       "      <td>Brick-Built Minions and Their Lair</td>\n",
       "      <td>2020.0</td>\n",
       "      <td>0.0</td>\n",
       "    </tr>\n",
       "  </tbody>\n",
       "</table>\n",
       "<p>15742 rows × 7 columns</p>\n",
       "</div>"
      ],
      "text/plain": [
       "       theme_id theme_name  parent_id  set_num  \\\n",
       "0             1    Technic        NaN    001-1   \n",
       "1             1    Technic        NaN    002-1   \n",
       "2             1    Technic        NaN   1030-1   \n",
       "3             1    Technic        NaN   1038-1   \n",
       "4             1    Technic        NaN   1039-1   \n",
       "...         ...        ...        ...      ...   \n",
       "15737       689    Minions        NaN  75546-1   \n",
       "15738       689    Minions        NaN  75547-1   \n",
       "15739       689    Minions        NaN  75549-1   \n",
       "15740       689    Minions        NaN  75550-1   \n",
       "15741       689    Minions        NaN  75551-1   \n",
       "\n",
       "                                 set_name    year  num_parts  \n",
       "0                                   Gears  1965.0       43.0  \n",
       "1          4.5V Samsonite Gears Motor Set  1965.0        3.0  \n",
       "2          TECHNIC I: Simple Machines Set  1985.0      191.0  \n",
       "3                      ERBIE the Robo-Car  1985.0      120.0  \n",
       "4                    Manual Control Set 1  1986.0       39.0  \n",
       "...                                   ...     ...        ...  \n",
       "15737                Minions in Gru’s Lab  2020.0        0.0  \n",
       "15738            Minion Pilot in Training  2020.0        0.0  \n",
       "15739              Unstoppable Bike Chase  2020.0        0.0  \n",
       "15740              Minions Kung Fu Battle  2020.0        0.0  \n",
       "15741  Brick-Built Minions and Their Lair  2020.0        0.0  \n",
       "\n",
       "[15742 rows x 7 columns]"
      ]
     },
     "execution_count": 6,
     "metadata": {},
     "output_type": "execute_result"
    }
   ],
   "source": [
    "themes_sets = themes_sets.rename(columns = {'name_x':'theme_name','name_y':'set_name'})\n",
    "themes_sets"
   ]
  },
  {
   "cell_type": "markdown",
   "id": "a016ad3c",
   "metadata": {},
   "source": [
    "## 7. Checking dataset for missing values"
   ]
  },
  {
   "cell_type": "code",
   "execution_count": 7,
   "id": "b6b990c9",
   "metadata": {
    "scrolled": true
   },
   "outputs": [
    {
     "data": {
      "text/plain": [
       "theme_id         0\n",
       "theme_name       0\n",
       "parent_id     5939\n",
       "set_num         76\n",
       "set_name        76\n",
       "year            76\n",
       "num_parts       76\n",
       "dtype: int64"
      ]
     },
     "execution_count": 7,
     "metadata": {},
     "output_type": "execute_result"
    }
   ],
   "source": [
    "themes_sets.isnull().sum()"
   ]
  },
  {
   "cell_type": "markdown",
   "id": "28458fd7",
   "metadata": {},
   "source": [
    "## 8. Filling all missing values with the value with the most number of occurence(mode)"
   ]
  },
  {
   "cell_type": "code",
   "execution_count": 8,
   "id": "5f378d2b",
   "metadata": {},
   "outputs": [
    {
     "data": {
      "text/plain": [
       "2019.0    831\n",
       "2018.0    802\n",
       "2017.0    778\n",
       "2015.0    765\n",
       "2016.0    746\n",
       "Name: year, dtype: int64"
      ]
     },
     "execution_count": 8,
     "metadata": {},
     "output_type": "execute_result"
    }
   ],
   "source": [
    "themes_sets['year'].value_counts().head()"
   ]
  },
  {
   "cell_type": "code",
   "execution_count": 9,
   "id": "d4252d15",
   "metadata": {},
   "outputs": [
    {
     "data": {
      "text/plain": [
       "0.0    1663\n",
       "1.0     368\n",
       "6.0     364\n",
       "7.0     310\n",
       "4.0     307\n",
       "Name: num_parts, dtype: int64"
      ]
     },
     "execution_count": 9,
     "metadata": {},
     "output_type": "execute_result"
    }
   ],
   "source": [
    "themes_sets['num_parts'].value_counts().head()"
   ]
  },
  {
   "cell_type": "code",
   "execution_count": 10,
   "id": "930118ea",
   "metadata": {},
   "outputs": [
    {
     "data": {
      "text/plain": [
       "theme_id         0\n",
       "theme_name       0\n",
       "parent_id     5939\n",
       "set_num         76\n",
       "set_name        76\n",
       "year             0\n",
       "num_parts        0\n",
       "dtype: int64"
      ]
     },
     "execution_count": 10,
     "metadata": {},
     "output_type": "execute_result"
    }
   ],
   "source": [
    "themes_sets['year'] = themes_sets['year'].fillna(themes_sets['year'].mode()[0])\n",
    "themes_sets['num_parts'] = themes_sets['num_parts'].fillna(themes_sets['num_parts'].mode()[0])\n",
    "themes_sets.isnull().sum()"
   ]
  },
  {
   "cell_type": "markdown",
   "id": "09a82020",
   "metadata": {},
   "source": [
    "## 9. Convert column values of 'year' and 'num_parts' from float to integer"
   ]
  },
  {
   "cell_type": "code",
   "execution_count": 11,
   "id": "bdb92220",
   "metadata": {},
   "outputs": [
    {
     "data": {
      "text/html": [
       "<div>\n",
       "<style scoped>\n",
       "    .dataframe tbody tr th:only-of-type {\n",
       "        vertical-align: middle;\n",
       "    }\n",
       "\n",
       "    .dataframe tbody tr th {\n",
       "        vertical-align: top;\n",
       "    }\n",
       "\n",
       "    .dataframe thead th {\n",
       "        text-align: right;\n",
       "    }\n",
       "</style>\n",
       "<table border=\"1\" class=\"dataframe\">\n",
       "  <thead>\n",
       "    <tr style=\"text-align: right;\">\n",
       "      <th></th>\n",
       "      <th>theme_id</th>\n",
       "      <th>theme_name</th>\n",
       "      <th>parent_id</th>\n",
       "      <th>set_num</th>\n",
       "      <th>set_name</th>\n",
       "      <th>year</th>\n",
       "      <th>num_parts</th>\n",
       "    </tr>\n",
       "  </thead>\n",
       "  <tbody>\n",
       "    <tr>\n",
       "      <th>0</th>\n",
       "      <td>1</td>\n",
       "      <td>Technic</td>\n",
       "      <td>NaN</td>\n",
       "      <td>001-1</td>\n",
       "      <td>Gears</td>\n",
       "      <td>1965</td>\n",
       "      <td>43</td>\n",
       "    </tr>\n",
       "    <tr>\n",
       "      <th>1</th>\n",
       "      <td>1</td>\n",
       "      <td>Technic</td>\n",
       "      <td>NaN</td>\n",
       "      <td>002-1</td>\n",
       "      <td>4.5V Samsonite Gears Motor Set</td>\n",
       "      <td>1965</td>\n",
       "      <td>3</td>\n",
       "    </tr>\n",
       "    <tr>\n",
       "      <th>2</th>\n",
       "      <td>1</td>\n",
       "      <td>Technic</td>\n",
       "      <td>NaN</td>\n",
       "      <td>1030-1</td>\n",
       "      <td>TECHNIC I: Simple Machines Set</td>\n",
       "      <td>1985</td>\n",
       "      <td>191</td>\n",
       "    </tr>\n",
       "    <tr>\n",
       "      <th>3</th>\n",
       "      <td>1</td>\n",
       "      <td>Technic</td>\n",
       "      <td>NaN</td>\n",
       "      <td>1038-1</td>\n",
       "      <td>ERBIE the Robo-Car</td>\n",
       "      <td>1985</td>\n",
       "      <td>120</td>\n",
       "    </tr>\n",
       "    <tr>\n",
       "      <th>4</th>\n",
       "      <td>1</td>\n",
       "      <td>Technic</td>\n",
       "      <td>NaN</td>\n",
       "      <td>1039-1</td>\n",
       "      <td>Manual Control Set 1</td>\n",
       "      <td>1986</td>\n",
       "      <td>39</td>\n",
       "    </tr>\n",
       "  </tbody>\n",
       "</table>\n",
       "</div>"
      ],
      "text/plain": [
       "   theme_id theme_name  parent_id set_num                        set_name  \\\n",
       "0         1    Technic        NaN   001-1                           Gears   \n",
       "1         1    Technic        NaN   002-1  4.5V Samsonite Gears Motor Set   \n",
       "2         1    Technic        NaN  1030-1  TECHNIC I: Simple Machines Set   \n",
       "3         1    Technic        NaN  1038-1              ERBIE the Robo-Car   \n",
       "4         1    Technic        NaN  1039-1            Manual Control Set 1   \n",
       "\n",
       "   year  num_parts  \n",
       "0  1965         43  \n",
       "1  1965          3  \n",
       "2  1985        191  \n",
       "3  1985        120  \n",
       "4  1986         39  "
      ]
     },
     "execution_count": 11,
     "metadata": {},
     "output_type": "execute_result"
    }
   ],
   "source": [
    "themes_sets['year'] = themes_sets['year'].astype(int)\n",
    "themes_sets['num_parts'] = themes_sets['num_parts'].astype(int)\n",
    "themes_sets.head()"
   ]
  },
  {
   "cell_type": "markdown",
   "id": "464cd695",
   "metadata": {},
   "source": [
    "## 10. Exploratory Data Analysis"
   ]
  },
  {
   "cell_type": "markdown",
   "id": "845d23a3",
   "metadata": {},
   "source": [
    "### 10.a. What are the top 5 Lego themes with the most number of sets?"
   ]
  },
  {
   "cell_type": "code",
   "execution_count": 12,
   "id": "c0b3b608",
   "metadata": {},
   "outputs": [
    {
     "data": {
      "text/html": [
       "<div>\n",
       "<style scoped>\n",
       "    .dataframe tbody tr th:only-of-type {\n",
       "        vertical-align: middle;\n",
       "    }\n",
       "\n",
       "    .dataframe tbody tr th {\n",
       "        vertical-align: top;\n",
       "    }\n",
       "\n",
       "    .dataframe thead th {\n",
       "        text-align: right;\n",
       "    }\n",
       "</style>\n",
       "<table border=\"1\" class=\"dataframe\">\n",
       "  <thead>\n",
       "    <tr style=\"text-align: right;\">\n",
       "      <th></th>\n",
       "      <th>theme_name</th>\n",
       "      <th>set_count</th>\n",
       "    </tr>\n",
       "  </thead>\n",
       "  <tbody>\n",
       "    <tr>\n",
       "      <th>0</th>\n",
       "      <td>Star Wars</td>\n",
       "      <td>846</td>\n",
       "    </tr>\n",
       "    <tr>\n",
       "      <th>1</th>\n",
       "      <td>Gear</td>\n",
       "      <td>553</td>\n",
       "    </tr>\n",
       "    <tr>\n",
       "      <th>2</th>\n",
       "      <td>Basic Set</td>\n",
       "      <td>546</td>\n",
       "    </tr>\n",
       "    <tr>\n",
       "      <th>3</th>\n",
       "      <td>Supplemental</td>\n",
       "      <td>534</td>\n",
       "    </tr>\n",
       "    <tr>\n",
       "      <th>4</th>\n",
       "      <td>Technic</td>\n",
       "      <td>447</td>\n",
       "    </tr>\n",
       "  </tbody>\n",
       "</table>\n",
       "</div>"
      ],
      "text/plain": [
       "     theme_name  set_count\n",
       "0     Star Wars        846\n",
       "1          Gear        553\n",
       "2     Basic Set        546\n",
       "3  Supplemental        534\n",
       "4       Technic        447"
      ]
     },
     "execution_count": 12,
     "metadata": {},
     "output_type": "execute_result"
    }
   ],
   "source": [
    "theme_count = themes_sets['theme_name'].value_counts().reset_index().rename(columns = {'index':'theme_name', 'theme_name':'set_count'})\n",
    "theme_count.head(5)"
   ]
  },
  {
   "cell_type": "code",
   "execution_count": 13,
   "id": "ea7c2374",
   "metadata": {},
   "outputs": [
    {
     "data": {
      "text/plain": [
       "<AxesSubplot:xlabel='theme_name', ylabel='set_count'>"
      ]
     },
     "execution_count": 13,
     "metadata": {},
     "output_type": "execute_result"
    },
    {
     "data": {
      "image/png": "[encoded data removed]",
      "text/plain": [
       "<Figure size 864x432 with 1 Axes>"
      ]
     },
     "metadata": {
      "needs_background": "light"
     },
     "output_type": "display_data"
    }
   ],
   "source": [
    "# Creating a bar graph\n",
    "mpl.rcParams['figure.figsize'] = 12,6\n",
    "sns.barplot(x = 'theme_name', y = 'set_count', data = theme_count.head(5))"
   ]
  },
  {
   "cell_type": "markdown",
   "id": "d83753e5",
   "metadata": {},
   "source": [
    "**Observation:**\n",
    "\n",
    "**The top 5 Lego themes with the most number of sets are:**\n",
    "\n",
    "1. **Star Wars**\n",
    "2. **Gear**\n",
    "3. **Basic Set**\n",
    "4. **Supplemental**\n",
    "5. **Technic**"
   ]
  },
  {
   "cell_type": "markdown",
   "id": "28906f0b",
   "metadata": {},
   "source": [
    "### 10.b. In what year did Lego released the most number of brick sets?"
   ]
  },
  {
   "cell_type": "code",
   "execution_count": 14,
   "id": "b5c04369",
   "metadata": {},
   "outputs": [
    {
     "data": {
      "text/html": [
       "<div>\n",
       "<style scoped>\n",
       "    .dataframe tbody tr th:only-of-type {\n",
       "        vertical-align: middle;\n",
       "    }\n",
       "\n",
       "    .dataframe tbody tr th {\n",
       "        vertical-align: top;\n",
       "    }\n",
       "\n",
       "    .dataframe thead th {\n",
       "        text-align: right;\n",
       "    }\n",
       "</style>\n",
       "<table border=\"1\" class=\"dataframe\">\n",
       "  <thead>\n",
       "    <tr style=\"text-align: right;\">\n",
       "      <th></th>\n",
       "      <th>year</th>\n",
       "      <th>set_count</th>\n",
       "    </tr>\n",
       "  </thead>\n",
       "  <tbody>\n",
       "    <tr>\n",
       "      <th>0</th>\n",
       "      <td>2019</td>\n",
       "      <td>907</td>\n",
       "    </tr>\n",
       "    <tr>\n",
       "      <th>1</th>\n",
       "      <td>2018</td>\n",
       "      <td>802</td>\n",
       "    </tr>\n",
       "    <tr>\n",
       "      <th>2</th>\n",
       "      <td>2017</td>\n",
       "      <td>778</td>\n",
       "    </tr>\n",
       "    <tr>\n",
       "      <th>3</th>\n",
       "      <td>2015</td>\n",
       "      <td>765</td>\n",
       "    </tr>\n",
       "    <tr>\n",
       "      <th>4</th>\n",
       "      <td>2016</td>\n",
       "      <td>746</td>\n",
       "    </tr>\n",
       "  </tbody>\n",
       "</table>\n",
       "</div>"
      ],
      "text/plain": [
       "   year  set_count\n",
       "0  2019        907\n",
       "1  2018        802\n",
       "2  2017        778\n",
       "3  2015        765\n",
       "4  2016        746"
      ]
     },
     "execution_count": 14,
     "metadata": {},
     "output_type": "execute_result"
    }
   ],
   "source": [
    "set_count_year = themes_sets['year'].value_counts().reset_index().rename(columns = {'index':'year', 'year':'set_count'})\n",
    "set_count_year.head()"
   ]
  },
  {
   "cell_type": "markdown",
   "id": "6e9619aa",
   "metadata": {},
   "source": [
    "**Observation:**\n",
    "\n",
    "**The year with the most number of brick set released by Lego was in 2019.**"
   ]
  },
  {
   "cell_type": "markdown",
   "id": "dc0ce111",
   "metadata": {},
   "source": [
    "### 10.c. What is the trend based on the number of brick sets per year?"
   ]
  },
  {
   "cell_type": "code",
   "execution_count": 15,
   "id": "60011bd4",
   "metadata": {},
   "outputs": [
    {
     "data": {
      "text/html": [
       "<div>\n",
       "<style scoped>\n",
       "    .dataframe tbody tr th:only-of-type {\n",
       "        vertical-align: middle;\n",
       "    }\n",
       "\n",
       "    .dataframe tbody tr th {\n",
       "        vertical-align: top;\n",
       "    }\n",
       "\n",
       "    .dataframe thead th {\n",
       "        text-align: right;\n",
       "    }\n",
       "</style>\n",
       "<table border=\"1\" class=\"dataframe\">\n",
       "  <thead>\n",
       "    <tr style=\"text-align: right;\">\n",
       "      <th></th>\n",
       "      <th>year</th>\n",
       "      <th>set_count</th>\n",
       "    </tr>\n",
       "  </thead>\n",
       "  <tbody>\n",
       "    <tr>\n",
       "      <th>0</th>\n",
       "      <td>1949</td>\n",
       "      <td>5</td>\n",
       "    </tr>\n",
       "    <tr>\n",
       "      <th>1</th>\n",
       "      <td>1950</td>\n",
       "      <td>6</td>\n",
       "    </tr>\n",
       "    <tr>\n",
       "      <th>2</th>\n",
       "      <td>1951</td>\n",
       "      <td>0</td>\n",
       "    </tr>\n",
       "    <tr>\n",
       "      <th>3</th>\n",
       "      <td>1952</td>\n",
       "      <td>0</td>\n",
       "    </tr>\n",
       "    <tr>\n",
       "      <th>4</th>\n",
       "      <td>1953</td>\n",
       "      <td>4</td>\n",
       "    </tr>\n",
       "    <tr>\n",
       "      <th>...</th>\n",
       "      <td>...</td>\n",
       "      <td>...</td>\n",
       "    </tr>\n",
       "    <tr>\n",
       "      <th>67</th>\n",
       "      <td>2016</td>\n",
       "      <td>746</td>\n",
       "    </tr>\n",
       "    <tr>\n",
       "      <th>68</th>\n",
       "      <td>2017</td>\n",
       "      <td>778</td>\n",
       "    </tr>\n",
       "    <tr>\n",
       "      <th>69</th>\n",
       "      <td>2018</td>\n",
       "      <td>802</td>\n",
       "    </tr>\n",
       "    <tr>\n",
       "      <th>70</th>\n",
       "      <td>2019</td>\n",
       "      <td>907</td>\n",
       "    </tr>\n",
       "    <tr>\n",
       "      <th>71</th>\n",
       "      <td>2020</td>\n",
       "      <td>338</td>\n",
       "    </tr>\n",
       "  </tbody>\n",
       "</table>\n",
       "<p>72 rows × 2 columns</p>\n",
       "</div>"
      ],
      "text/plain": [
       "    year  set_count\n",
       "0   1949          5\n",
       "1   1950          6\n",
       "2   1951          0\n",
       "3   1952          0\n",
       "4   1953          4\n",
       "..   ...        ...\n",
       "67  2016        746\n",
       "68  2017        778\n",
       "69  2018        802\n",
       "70  2019        907\n",
       "71  2020        338\n",
       "\n",
       "[72 rows x 2 columns]"
      ]
     },
     "execution_count": 15,
     "metadata": {},
     "output_type": "execute_result"
    }
   ],
   "source": [
    "# Adding two missing year values\n",
    "df_add = pd.DataFrame([[1951, 0], [1952, 0]], columns = ['year', 'set_count'])\n",
    "\n",
    "sets_per_year = set_count_year.sort_values(\"year\", ascending = True).reset_index(drop=True)\n",
    "sets_per_year = pd.concat([sets_per_year, df_add])\n",
    "sets_per_year = sets_per_year.sort_values(\"year\", ascending = True).reset_index(drop=True)\n",
    "sets_per_year"
   ]
  },
  {
   "cell_type": "code",
   "execution_count": 16,
   "id": "a48dc403",
   "metadata": {},
   "outputs": [
    {
     "data": {
      "text/plain": [
       "<AxesSubplot:xlabel='year', ylabel='set_count'>"
      ]
     },
     "execution_count": 16,
     "metadata": {},
     "output_type": "execute_result"
    },
    {
     "data": {
      "image/png": "[encoded data removed]",
      "text/plain": [
       "<Figure size 864x432 with 1 Axes>"
      ]
     },
     "metadata": {
      "needs_background": "light"
     },
     "output_type": "display_data"
    }
   ],
   "source": [
    "# Creating a line graph\n",
    "mpl.rcParams['figure.figsize'] = 12,6\n",
    "sns.lineplot(x = 'year', y = 'set_count', data = sets_per_year)"
   ]
  },
  {
   "cell_type": "markdown",
   "id": "45635247",
   "metadata": {},
   "source": [
    "**Observation:**\n",
    "\n",
    "1. The number of brick sets released is increasing by the year.\n",
    "2. There was a sharp drop on the number of brick sets released in 2020."
   ]
  },
  {
   "cell_type": "markdown",
   "id": "fccc6216",
   "metadata": {},
   "source": [
    "### 10.d. What is the trend based on the number of brick parts per year?"
   ]
  },
  {
   "cell_type": "code",
   "execution_count": 17,
   "id": "445c58c8",
   "metadata": {},
   "outputs": [],
   "source": [
    "parts_per_year = themes_sets.groupby(['year']).sum().reset_index()\n",
    "parts_per_year.drop(['theme_id','parent_id'], axis = 1, inplace = True)"
   ]
  },
  {
   "cell_type": "code",
   "execution_count": 18,
   "id": "7d314af5",
   "metadata": {},
   "outputs": [],
   "source": [
    "df_add = pd.DataFrame([[1951, 0], [1952, 0]], columns = ['year', 'num_parts'])\n",
    "parts_per_year = pd.concat([parts_per_year, df_add])"
   ]
  },
  {
   "cell_type": "code",
   "execution_count": 19,
   "id": "f1edad56",
   "metadata": {},
   "outputs": [
    {
     "data": {
      "text/html": [
       "<div>\n",
       "<style scoped>\n",
       "    .dataframe tbody tr th:only-of-type {\n",
       "        vertical-align: middle;\n",
       "    }\n",
       "\n",
       "    .dataframe tbody tr th {\n",
       "        vertical-align: top;\n",
       "    }\n",
       "\n",
       "    .dataframe thead th {\n",
       "        text-align: right;\n",
       "    }\n",
       "</style>\n",
       "<table border=\"1\" class=\"dataframe\">\n",
       "  <thead>\n",
       "    <tr style=\"text-align: right;\">\n",
       "      <th></th>\n",
       "      <th>year</th>\n",
       "      <th>num_parts</th>\n",
       "    </tr>\n",
       "  </thead>\n",
       "  <tbody>\n",
       "    <tr>\n",
       "      <th>0</th>\n",
       "      <td>1949</td>\n",
       "      <td>498</td>\n",
       "    </tr>\n",
       "    <tr>\n",
       "      <th>1</th>\n",
       "      <td>1950</td>\n",
       "      <td>6</td>\n",
       "    </tr>\n",
       "    <tr>\n",
       "      <th>2</th>\n",
       "      <td>1951</td>\n",
       "      <td>0</td>\n",
       "    </tr>\n",
       "    <tr>\n",
       "      <th>3</th>\n",
       "      <td>1952</td>\n",
       "      <td>0</td>\n",
       "    </tr>\n",
       "    <tr>\n",
       "      <th>4</th>\n",
       "      <td>1953</td>\n",
       "      <td>54</td>\n",
       "    </tr>\n",
       "    <tr>\n",
       "      <th>...</th>\n",
       "      <td>...</td>\n",
       "      <td>...</td>\n",
       "    </tr>\n",
       "    <tr>\n",
       "      <th>67</th>\n",
       "      <td>2016</td>\n",
       "      <td>157940</td>\n",
       "    </tr>\n",
       "    <tr>\n",
       "      <th>68</th>\n",
       "      <td>2017</td>\n",
       "      <td>174986</td>\n",
       "    </tr>\n",
       "    <tr>\n",
       "      <th>69</th>\n",
       "      <td>2018</td>\n",
       "      <td>173419</td>\n",
       "    </tr>\n",
       "    <tr>\n",
       "      <th>70</th>\n",
       "      <td>2019</td>\n",
       "      <td>174027</td>\n",
       "    </tr>\n",
       "    <tr>\n",
       "      <th>71</th>\n",
       "      <td>2020</td>\n",
       "      <td>56838</td>\n",
       "    </tr>\n",
       "  </tbody>\n",
       "</table>\n",
       "<p>72 rows × 2 columns</p>\n",
       "</div>"
      ],
      "text/plain": [
       "    year  num_parts\n",
       "0   1949        498\n",
       "1   1950          6\n",
       "2   1951          0\n",
       "3   1952          0\n",
       "4   1953         54\n",
       "..   ...        ...\n",
       "67  2016     157940\n",
       "68  2017     174986\n",
       "69  2018     173419\n",
       "70  2019     174027\n",
       "71  2020      56838\n",
       "\n",
       "[72 rows x 2 columns]"
      ]
     },
     "execution_count": 19,
     "metadata": {},
     "output_type": "execute_result"
    }
   ],
   "source": [
    "parts_per_year = parts_per_year.sort_values(\"year\", ascending = True).reset_index(drop=True)\n",
    "parts_per_year"
   ]
  },
  {
   "cell_type": "code",
   "execution_count": 20,
   "id": "ef9525de",
   "metadata": {},
   "outputs": [
    {
     "data": {
      "text/plain": [
       "<AxesSubplot:xlabel='year', ylabel='num_parts'>"
      ]
     },
     "execution_count": 20,
     "metadata": {},
     "output_type": "execute_result"
    },
    {
     "data": {
      "image/png": "[encoded data removed]",
      "text/plain": [
       "<Figure size 864x432 with 1 Axes>"
      ]
     },
     "metadata": {
      "needs_background": "light"
     },
     "output_type": "display_data"
    }
   ],
   "source": [
    "# Creating a line graph\n",
    "sns.lineplot(x = 'year', y = 'num_parts', data = parts_per_year)"
   ]
  },
  {
   "cell_type": "markdown",
   "id": "47a6969b",
   "metadata": {},
   "source": [
    "**Observation:**\n",
    "\n",
    "1. From 1949 to 2017, the number of brick parts increased every year.\n",
    "2. From 2017 to 2019. the number of brick parts remained between the 173k and 174k.\n",
    "3. In 2020, the number of brick parts sharply fell due to the decreased production caused by the pandemic."
   ]
  },
  {
   "cell_type": "markdown",
   "id": "f9b70a9f",
   "metadata": {},
   "source": [
    "### 10.e. Which Lego theme has the most number of brick parts?"
   ]
  },
  {
   "cell_type": "code",
   "execution_count": 21,
   "id": "aaeb22df",
   "metadata": {},
   "outputs": [],
   "source": [
    "themes_parts = themes_sets.groupby(['theme_name']).sum().reset_index()\n",
    "themes_parts = themes_parts.sort_values(\"num_parts\", ascending = False).reset_index(drop=True)"
   ]
  },
  {
   "cell_type": "code",
   "execution_count": 22,
   "id": "2c0d4272",
   "metadata": {},
   "outputs": [],
   "source": [
    "themes_parts.drop([\"theme_id\",\"parent_id\",\"year\"], axis = 1, inplace = True)"
   ]
  },
  {
   "cell_type": "code",
   "execution_count": 23,
   "id": "8a18956b",
   "metadata": {},
   "outputs": [
    {
     "data": {
      "text/html": [
       "<div>\n",
       "<style scoped>\n",
       "    .dataframe tbody tr th:only-of-type {\n",
       "        vertical-align: middle;\n",
       "    }\n",
       "\n",
       "    .dataframe tbody tr th {\n",
       "        vertical-align: top;\n",
       "    }\n",
       "\n",
       "    .dataframe thead th {\n",
       "        text-align: right;\n",
       "    }\n",
       "</style>\n",
       "<table border=\"1\" class=\"dataframe\">\n",
       "  <thead>\n",
       "    <tr style=\"text-align: right;\">\n",
       "      <th></th>\n",
       "      <th>theme_name</th>\n",
       "      <th>num_parts</th>\n",
       "    </tr>\n",
       "  </thead>\n",
       "  <tbody>\n",
       "    <tr>\n",
       "      <th>0</th>\n",
       "      <td>Star Wars</td>\n",
       "      <td>187937</td>\n",
       "    </tr>\n",
       "    <tr>\n",
       "      <th>1</th>\n",
       "      <td>Basic Set</td>\n",
       "      <td>112179</td>\n",
       "    </tr>\n",
       "    <tr>\n",
       "      <th>2</th>\n",
       "      <td>Ultimate Collector Series</td>\n",
       "      <td>85004</td>\n",
       "    </tr>\n",
       "    <tr>\n",
       "      <th>3</th>\n",
       "      <td>Creator Expert</td>\n",
       "      <td>78542</td>\n",
       "    </tr>\n",
       "    <tr>\n",
       "      <th>4</th>\n",
       "      <td>Ninjago</td>\n",
       "      <td>66626</td>\n",
       "    </tr>\n",
       "  </tbody>\n",
       "</table>\n",
       "</div>"
      ],
      "text/plain": [
       "                  theme_name  num_parts\n",
       "0                  Star Wars     187937\n",
       "1                  Basic Set     112179\n",
       "2  Ultimate Collector Series      85004\n",
       "3             Creator Expert      78542\n",
       "4                    Ninjago      66626"
      ]
     },
     "execution_count": 23,
     "metadata": {},
     "output_type": "execute_result"
    }
   ],
   "source": [
    "themes_parts.head()"
   ]
  },
  {
   "cell_type": "code",
   "execution_count": 24,
   "id": "40513fcb",
   "metadata": {},
   "outputs": [
    {
     "data": {
      "text/plain": [
       "<AxesSubplot:xlabel='theme_name', ylabel='num_parts'>"
      ]
     },
     "execution_count": 24,
     "metadata": {},
     "output_type": "execute_result"
    },
    {
     "data": {
      "image/png": "[encoded data removed]",
      "text/plain": [
       "<Figure size 864x432 with 1 Axes>"
      ]
     },
     "metadata": {
      "needs_background": "light"
     },
     "output_type": "display_data"
    }
   ],
   "source": [
    "sns.barplot(x = 'theme_name', y = 'num_parts', data = themes_parts.head())"
   ]
  },
  {
   "cell_type": "markdown",
   "id": "0f636395",
   "metadata": {},
   "source": [
    "**Observation:**\n",
    "\n",
    "**The top 5 themes with the most number of brick parts are:**\n",
    "1. **Star Wars**\n",
    "2. **Basic Set**\n",
    "3. **Ultimate Collector Series**\n",
    "4. **Creator Expert**\n",
    "5. **Ninjago**"
   ]
  },
  {
   "cell_type": "code",
   "execution_count": null,
   "id": "9e0f8661",
   "metadata": {},
   "outputs": [],
   "source": []
  }
 ],
 "metadata": {
  "kernelspec": {
   "display_name": "Python 3",
   "language": "python",
   "name": "python3"
  },
  "language_info": {
   "codemirror_mode": {
    "name": "ipython",
    "version": 3
   },
   "file_extension": ".py",
   "mimetype": "text/x-python",
   "name": "python",
   "nbconvert_exporter": "python",
   "pygments_lexer": "ipython3",
   "version": "3.8.8"
  }
 },
 "nbformat": 4,
 "nbformat_minor": 5
}
